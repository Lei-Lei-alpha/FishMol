{
 "cells": [
  {
   "cell_type": "markdown",
   "id": "9f36a0c7-9f68-4a08-af61-d9723fa91a18",
   "metadata": {},
   "source": [
    "# Reorientation lifetime of vectors"
   ]
  },
  {
   "cell_type": "code",
   "execution_count": 1,
   "id": "6185c8ee-cf86-438c-89bd-9111b22ec19d",
   "metadata": {},
   "outputs": [],
   "source": [
    "from fishmol import trj, atoms, utils, funcs, style\n",
    "from cage_data import cage1_info"
   ]
  },
  {
   "cell_type": "markdown",
   "id": "b2fece74-f531-4df4-aae8-29f26d2adae4",
   "metadata": {},
   "source": [
    "## Read trajectory file"
   ]
  },
  {
   "cell_type": "code",
   "execution_count": 2,
   "id": "f1d74867-a150-4fea-9a6d-cd13c5a93cea",
   "metadata": {},
   "outputs": [
    {
     "name": "stdout",
     "output_type": "stream",
     "text": [
      "CPU times: user 2min 12s, sys: 4.57 s, total: 2min 17s\n",
      "Wall time: 2min 17s\n"
     ]
    }
   ],
   "source": [
    "%%time\n",
    "cell = cage1_info.cell\n",
    "traj = trj.Trajectory(timestep = 5, data = \"/nobackup/rhtp48/data_ana/cage1-500K.xyz\", index = \":\", cell = cell)"
   ]
  },
  {
   "cell_type": "markdown",
   "id": "bf4e2f86-ee0d-47e8-bf58-d538251c2bb3",
   "metadata": {},
   "source": [
    "## Vector reorientation dynamics (VRD) of water O-H bonds"
   ]
  },
  {
   "cell_type": "code",
   "execution_count": 66,
   "id": "f12c39b1-412d-4775-81cd-76d1efb0ff7e",
   "metadata": {},
   "outputs": [],
   "source": [
    "import numpy as np\n",
    "from recordclass import make_dataclass\n",
    "import matplotlib.pyplot as plt\n",
    "from mpl_toolkits.axes_grid1 import make_axes_locatable\n",
    "from fishmol.utils import to_sublists, update_progress\n",
    "from fishmol import style\n",
    "from scipy.optimize import curve_fit\n",
    "from scipy.integrate import quad\n",
    "class new_VRD(object):\n",
    "    \"\"\"Vector Reorientation Dynamics\n",
    "    -----------------------------------------------------------------------------------------------------------------------------------------------------------------------------------\n",
    "    Arguments\n",
    "    spec : np.array or list of two atoms (two atom groups) that determine the vector\n",
    "    timestep : the timestep of the vector when using np.array input\n",
    "    traj : the input Trajectory object\n",
    "    num : int, length of frames to calculate the reorientation dynamics\n",
    "    skip : int, frames to skip = skip - 1. Determines the sampling step of the Trajectory, eg. skip = 1, use all frames in the Trajectory: skip = 10, skip 9 frames.\n",
    "    -----------------------------------------------------------------------------------------------------------------------------------------------------------------------------------\n",
    "    Returns\n",
    "    self.results:\n",
    "    - t: time calculated\n",
    "    - C_t: the average c_t\n",
    "    - C_t_error: the error of c_t\n",
    "    \"\"\"\n",
    "    def __init__(self, traj = None, spec = None, timestep = None, num = 2000, sampling = 5, skip = 10):\n",
    "        results = make_dataclass(\"Results\", \"t C_t C_t_error t_fit C_t_fit fit_params plot\")\n",
    "        self.results = results\n",
    "        self.traj = traj\n",
    "        self.spec = spec\n",
    "        self.num = num\n",
    "        self.sampling = sampling\n",
    "        self.skip = skip\n",
    "        if traj is not None:\n",
    "            self.traj = traj\n",
    "            self.t_step = traj.timestep\n",
    "        elif traj is None:\n",
    "            if isinstance(self.spec, np.ndarray):\n",
    "                if timestep is not None:\n",
    "                    self.t_step = timestep\n",
    "                else:\n",
    "                    print(\"VRD created with array of vectors without specifying timestep, using default timestep of 5 fs, please specify the timestep you are using if this is incorrect.\")\n",
    "                    self.t_step = 5\n",
    "            else:\n",
    "                raise Exception(\"Please either specify\\n:(i)a Trajectory object and a list of the indices of two atoms\\nor\\n(ii) a np.array object of vector data and the timestep of the vector data.\")\n",
    "        else:\n",
    "            raise Exception(\"Please either specify\\n:(i)a Trajectory object and a list of the indices of two atoms\\nor\\n(ii) a np.array object of vector data and the timestep of the vector data.\")\n",
    "        self.results.t = np.linspace(0, self.t_step * (self.num - 1) / 1000, num = self.num//self.sampling)\n",
    "    \n",
    "    def calculate(self, plot = True, l = 3, log_scale = False, fit = False, **kwargs):\n",
    "        if self.traj is not None:\n",
    "            if any([self.spec[0] is None, self.spec[1] is None]):\n",
    "                raise ValueError(\"Please specify atom groups \")\n",
    "            else:\n",
    "                combs = make_comb(*self.spec)\n",
    "            frame_chunks = to_sublists(self.traj.frames, self.num)[::self.skip]\n",
    "            # n_select_frames = len(frame_chunks[0])\n",
    "            dot_products = np.zeros((len(frame_chunks), len(self.results.t), len(combs)))\n",
    "            \n",
    "            for i, frame_chunk in enumerate(frame_chunks):\n",
    "                select = frame_chunk[::self.sampling]\n",
    "                dot_products[i] = np.asarray([np.diagonal(frame.vecs(combs = combs, absolute = False, normalise = True, mic = True).dot(\n",
    "                    select[0].vecs(combs = combs, absolute = False, normalise = True, mic = True).T)) for frame in select])\n",
    "                update_progress(i / len(frame_chunks))\n",
    "            \n",
    "        # If the vec is an array of vectors without traj\n",
    "        else:\n",
    "            vec_chunks = to_sublists(self.spec, self.num)[::self.skip]\n",
    "            dot_products = np.zeros((len(frame_chunks), len(self.results.t), len(combs)))\n",
    "            for i, vec_chunk in len(vec_chunks):\n",
    "                select = vec_chunk[::self.sampling]\n",
    "                dot_products[i] = np.asarray([vecs.dot(vec_chunk[0]) / (np.linalg.norm(vecs) * vecs(vec_chunk[0])) for vecs in vec_chunk])\n",
    "                update_progress(i / len(frame_chunks))\n",
    "\n",
    "        if l == 1:\n",
    "            self.results.C_t = dot_products.mean(axis = 0)\n",
    "            self.results.C_t_error = dot_products.std(axis = 0) / (len(frame_chunks))**0.5\n",
    "        \n",
    "        elif l == 2:\n",
    "            self.results.C_t = ((3 * (dot_products)**2 - 1)/2).mean(axis = 0)\n",
    "            self.results.C_t_error = ((3 * (dot_products)**2 - 1)/2).std(axis = 0) / (len(frame_chunks))**0.5\n",
    "\n",
    "        elif l == 3:\n",
    "            self.results.C_t = ((5 * (dot_products)**3 - 3 * (dot_products.mean(axis = 0)))/2).mean(axis = 0)\n",
    "            self.results.C_t_error = (((5 * (dot_products)**3 - 3 * (dot_products.mean(axis = 0)))/2)).std(axis = 0) / (len(frame_chunks))**0.5\n",
    "        \n",
    "        else:\n",
    "            raise ValueError(\"l = 1, 2 or 3\")\n",
    "\n",
    "        def kww_func_fit(x, y, tau = 1, beta = 0.4, maxfev = 10000):\n",
    "            \"\"\"\n",
    "            Fit the data with Kohlrausch-Willliams-Watts equation\n",
    "            \"\"\"\n",
    "            def kww_func(t, tau, beta):\n",
    "                return np.exp(-(t/tau)**beta)\n",
    "\n",
    "            params,_ = curve_fit(kww_func, x, y, p0=[tau, beta], maxfev = maxfev)\n",
    "            x_fit = np.linspace(x.min(), x.max(), num = 200)\n",
    "            y_fit = kww_func(x_fit, *params)\n",
    "            print(\"The fitted KWW function paramters are:\\nalpha: {0}, beta: {1}\".format(*params))\n",
    "            return x_fit, y_fit, params\n",
    "        \n",
    "        if fit:\n",
    "            self.results.t_fit = np.linspace(self.results.t.min(), self.results.t.max(), num = 200)\n",
    "            self.results.C_t_fit = np.zeros((200, self.results.C_t.shape[-1]))\n",
    "            self.results.fit_params = np.zeros((2, self.results.C_t.shape[-1]))\n",
    "            for i in range(self.results.C_t.shape[-1]):\n",
    "                _, self.results.C_t_fit[i], self.results.fit_params[i] = kww_func_fit(self.results.t, self.results.C_t[:, i])\n",
    "        \n",
    "        update_progress(1)\n",
    "        \n",
    "        # delete temp variable to release some memory\n",
    "        del frame_chunks, dot_products, select\n",
    "        \n",
    "        # Plot the results    \n",
    "        if plot:\n",
    "            fig, ax = plt.subplots(figsize = (4.2, 3.6))\n",
    "            for i in range(self.results.C_t.shape[-1]):\n",
    "                ax.scatter(self.results.t, self.results.C_t[:, i], **kwargs)\n",
    "            if fit:\n",
    "                [ax.plot(self.results.t_fit, self.results.C_t_fit[:, i], color = \"#525252\", lw = 2) for i in range(self.results.C_t.shape[-1])]\n",
    "            ax.set_xlabel(r\"$t$ (ps)\")\n",
    "            ax.set_ylabel(f\"$C^{l}_t$\")\n",
    "            if log_scale:\n",
    "                plt.semilogy()\n",
    "            plt.show()\n",
    "            self.results.plot = fig\n",
    "            \n",
    "        return self.results"
   ]
  },
  {
   "cell_type": "code",
   "execution_count": null,
   "id": "c0dbd4a9-4a38-4642-a777-57c8ee1a61bf",
   "metadata": {},
   "outputs": [
    {
     "name": "stdout",
     "output_type": "stream",
     "text": [
      "Progress: [■■■○○○○○○○○○○○○○○○○○] 13.0%\n"
     ]
    }
   ],
   "source": [
    "water_vrd = new_VRD(traj = traj, spec = [14, [15, 16]], num = 500, sampling = 10, skip = 5)\n",
    "results = water_vrd.calculate(plot = True, l = 1, fit = True)"
   ]
  },
  {
   "cell_type": "code",
   "execution_count": 27,
   "id": "a33e2cf5-c891-45bc-b43d-f44c9004c70d",
   "metadata": {},
   "outputs": [
    {
     "data": {
      "image/png": "[encoded data removed]",
      "text/plain": [
       "<Figure size 302.4x259.2 with 1 Axes>"
      ]
     },
     "metadata": {
      "needs_background": "light"
     },
     "output_type": "display_data"
    }
   ],
   "source": [
    "fig, ax = plt.subplots()\n",
    "for i in range(results.C_t.shape[-1]):\n",
    "    ax.scatter(results.t, results.C_t[:,i])\n",
    "# ax.plot(results.t_fit, results.C_t_fit)\n",
    "plt.show()"
   ]
  },
  {
   "cell_type": "markdown",
   "id": "23a20de5-0c6d-40ca-a4e7-850093178c93",
   "metadata": {},
   "source": [
    "## VRD of trifluoroacetate ion C-C bond"
   ]
  },
  {
   "cell_type": "code",
   "execution_count": null,
   "id": "e58878aa-60ba-49e6-a81c-d79544dad2f3",
   "metadata": {},
   "outputs": [],
   "source": [
    "TFAs = cage1_info.TFAs"
   ]
  },
  {
   "cell_type": "code",
   "execution_count": null,
   "id": "b03b08cb-bb50-4c02-9916-e6750ba7f9a5",
   "metadata": {},
   "outputs": [],
   "source": [
    "spec = [*TFAs[0].values()]\n",
    "vrd = funcs.VRD(traj = traj, spec = [[spec[-2],], [spec[-1],]], num = 2000, sampling = 5, skip = 2)\n",
    "results = vrd.calculate(plot = False, l = 3)"
   ]
  }
 ],
 "metadata": {
  "kernelspec": {
   "display_name": "Python 3 (ipykernel)",
   "language": "python",
   "name": "python3"
  },
  "language_info": {
   "codemirror_mode": {
    "name": "ipython",
    "version": 3
   },
   "file_extension": ".py",
   "mimetype": "text/x-python",
   "name": "python",
   "nbconvert_exporter": "python",
   "pygments_lexer": "ipython3",
   "version": "3.9.9"
  }
 },
 "nbformat": 4,
 "nbformat_minor": 5
}
