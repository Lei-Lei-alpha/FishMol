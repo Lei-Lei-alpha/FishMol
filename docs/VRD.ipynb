{
 "cells": [
  {
   "cell_type": "markdown",
   "id": "9f36a0c7-9f68-4a08-af61-d9723fa91a18",
   "metadata": {},
   "source": [
    "# Reorientation lifetime of vectors"
   ]
  },
  {
   "cell_type": "code",
   "execution_count": null,
   "id": "6185c8ee-cf86-438c-89bd-9111b22ec19d",
   "metadata": {},
   "outputs": [],
   "source": [
    "from fishmol import trj, atoms, utils, funcs, style\n",
    "from cage_data import cage1_info\n",
    "import warnings\n",
    "import itertools\n",
    "import time, sys"
   ]
  },
  {
   "cell_type": "markdown",
   "id": "b2fece74-f531-4df4-aae8-29f26d2adae4",
   "metadata": {},
   "source": [
    "## Read trajectory file"
   ]
  },
  {
   "cell_type": "code",
   "execution_count": null,
   "id": "f1d74867-a150-4fea-9a6d-cd13c5a93cea",
   "metadata": {},
   "outputs": [],
   "source": [
    "%%time\n",
    "cell = cage1_info.cell\n",
    "traj = trj.Trajectory(timestep = 5, data = \"/nobackup/rhtp48/data_ana/cage1-500K.xyz\", index = \":\", cell = cell)"
   ]
  },
  {
   "cell_type": "markdown",
   "id": "bf4e2f86-ee0d-47e8-bf58-d538251c2bb3",
   "metadata": {},
   "source": [
    "## Vector reorientation dynamics (VRD) of water O-H bonds"
   ]
  },
  {
   "cell_type": "code",
   "execution_count": null,
   "id": "c0dbd4a9-4a38-4642-a777-57c8ee1a61bf",
   "metadata": {},
   "outputs": [],
   "source": [
    "water_vrd = new_VRD(traj = traj, spec = [[14,],[15,16]], num = 500, sampling = 10, skip = 2)\n",
    "results = water_vrd.calculate(plot = False, l = 1)"
   ]
  },
  {
   "cell_type": "code",
   "execution_count": null,
   "id": "2986d4bf-240f-436f-803d-eaef3f0c40a0",
   "metadata": {},
   "outputs": [],
   "source": [
    "results.c_t_mean[:,0]"
   ]
  },
  {
   "cell_type": "code",
   "execution_count": null,
   "id": "c6a8b5fb-3d78-4bb3-aa04-0e39960eb015",
   "metadata": {},
   "outputs": [],
   "source": [
    "x_fit, y_fit, params = water_vrd.kww_func_fit(results.t, results.c_t_mean[:,0])"
   ]
  },
  {
   "cell_type": "code",
   "execution_count": null,
   "id": "a33e2cf5-c891-45bc-b43d-f44c9004c70d",
   "metadata": {},
   "outputs": [],
   "source": [
    "fig, ax = plt.subplots()\n",
    "ax.scatter(results.t, results.c_t_mean[:,0])\n",
    "ax.plot(x_fit, y_fit)\n",
    "plt.show()"
   ]
  },
  {
   "cell_type": "markdown",
   "id": "23a20de5-0c6d-40ca-a4e7-850093178c93",
   "metadata": {},
   "source": [
    "## VRD of trifluoroacetate ion C-C bond"
   ]
  },
  {
   "cell_type": "code",
   "execution_count": null,
   "id": "e58878aa-60ba-49e6-a81c-d79544dad2f3",
   "metadata": {},
   "outputs": [],
   "source": [
    "TFAs = cage1_info.TFAs"
   ]
  },
  {
   "cell_type": "code",
   "execution_count": null,
   "id": "b03b08cb-bb50-4c02-9916-e6750ba7f9a5",
   "metadata": {},
   "outputs": [],
   "source": [
    "spec = [*TFAs[0].values()]\n",
    "vrd = funcs.VRD(traj = traj, spec = [[spec[-2],], [spec[-1],]], num = 2000, sampling = 5, skip = 2)\n",
    "results = vrd.calculate(plot = False, l = 3)"
   ]
  }
 ],
 "metadata": {
  "kernelspec": {
   "display_name": "Python 3 (ipykernel)",
   "language": "python",
   "name": "python3"
  },
  "language_info": {
   "codemirror_mode": {
    "name": "ipython",
    "version": 3
   },
   "file_extension": ".py",
   "mimetype": "text/x-python",
   "name": "python",
   "nbconvert_exporter": "python",
   "pygments_lexer": "ipython3",
   "version": "3.9.9"
  }
 },
 "nbformat": 4,
 "nbformat_minor": 5
}
