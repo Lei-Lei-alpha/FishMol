{
 "cells": [
  {
   "cell_type": "markdown",
   "id": "9f36a0c7-9f68-4a08-af61-d9723fa91a18",
   "metadata": {},
   "source": [
    "# Reorientation lifetime of vectors"
   ]
  },
  {
   "cell_type": "code",
   "execution_count": 2,
   "id": "6185c8ee-cf86-438c-89bd-9111b22ec19d",
   "metadata": {},
   "outputs": [
    {
     "ename": "NameError",
     "evalue": "name 'LinearSegmentedColormap' is not defined",
     "output_type": "error",
     "traceback": [
      "\u001b[0;31m---------------------------------------------------------------------------\u001b[0m",
      "\u001b[0;31mNameError\u001b[0m                                 Traceback (most recent call last)",
      "\u001b[0;32m/tmp/ipykernel_4142561/1145714336.py\u001b[0m in \u001b[0;36m<module>\u001b[0;34m\u001b[0m\n\u001b[0;32m----> 1\u001b[0;31m \u001b[0;32mfrom\u001b[0m \u001b[0mfishmol\u001b[0m \u001b[0;32mimport\u001b[0m \u001b[0mtrj\u001b[0m\u001b[0;34m,\u001b[0m \u001b[0matoms\u001b[0m\u001b[0;34m,\u001b[0m \u001b[0mutils\u001b[0m\u001b[0;34m,\u001b[0m \u001b[0mfuncs\u001b[0m\u001b[0;34m,\u001b[0m \u001b[0mstyle\u001b[0m\u001b[0;34m\u001b[0m\u001b[0;34m\u001b[0m\u001b[0m\n\u001b[0m\u001b[1;32m      2\u001b[0m \u001b[0;32mfrom\u001b[0m \u001b[0mcage_data\u001b[0m \u001b[0;32mimport\u001b[0m \u001b[0mcage1_info\u001b[0m\u001b[0;34m\u001b[0m\u001b[0;34m\u001b[0m\u001b[0m\n",
      "\u001b[0;32m/nobackup/rhtp48/fishmol/fishmol/funcs.py\u001b[0m in \u001b[0;36m<module>\u001b[0;34m\u001b[0m\n\u001b[1;32m     11\u001b[0m \u001b[0;34m\u001b[0m\u001b[0m\n\u001b[1;32m     12\u001b[0m \u001b[0mramp_colors\u001b[0m \u001b[0;34m=\u001b[0m \u001b[0;34m[\u001b[0m\u001b[0;34m\"#ffffff\"\u001b[0m\u001b[0;34m,\u001b[0m \u001b[0;34m\"#9ecae1\"\u001b[0m\u001b[0;34m,\u001b[0m \u001b[0;34m\"#2166ac\"\u001b[0m\u001b[0;34m,\u001b[0m \u001b[0;34m\"#1a9850\"\u001b[0m\u001b[0;34m,\u001b[0m \u001b[0;34m\"#ffff33\"\u001b[0m\u001b[0;34m,\u001b[0m \u001b[0;34m\"#b2182b\"\u001b[0m\u001b[0;34m,\u001b[0m \u001b[0;34m\"#67000d\"\u001b[0m\u001b[0;34m]\u001b[0m\u001b[0;34m\u001b[0m\u001b[0;34m\u001b[0m\u001b[0m\n\u001b[0;32m---> 13\u001b[0;31m \u001b[0mcolor_ramp\u001b[0m \u001b[0;34m=\u001b[0m \u001b[0mLinearSegmentedColormap\u001b[0m\u001b[0;34m.\u001b[0m\u001b[0mfrom_list\u001b[0m\u001b[0;34m(\u001b[0m \u001b[0;34m'my_list'\u001b[0m\u001b[0;34m,\u001b[0m \u001b[0;34m[\u001b[0m \u001b[0mColor\u001b[0m\u001b[0;34m(\u001b[0m \u001b[0mc1\u001b[0m \u001b[0;34m)\u001b[0m\u001b[0;34m.\u001b[0m\u001b[0mrgb\u001b[0m \u001b[0;32mfor\u001b[0m \u001b[0mc1\u001b[0m \u001b[0;32min\u001b[0m \u001b[0mramp_colors\u001b[0m \u001b[0;34m]\u001b[0m \u001b[0;34m)\u001b[0m\u001b[0;34m\u001b[0m\u001b[0;34m\u001b[0m\u001b[0m\n\u001b[0m\u001b[1;32m     14\u001b[0m \u001b[0;34m\u001b[0m\u001b[0m\n\u001b[1;32m     15\u001b[0m \u001b[0;34m\u001b[0m\u001b[0m\n",
      "\u001b[0;31mNameError\u001b[0m: name 'LinearSegmentedColormap' is not defined"
     ]
    }
   ],
   "source": [
    "from fishmol import trj, atoms, utils, funcs, style\n",
    "from cage_data import cage1_info"
   ]
  },
  {
   "cell_type": "markdown",
   "id": "b2fece74-f531-4df4-aae8-29f26d2adae4",
   "metadata": {},
   "source": [
    "## Read trajectory file"
   ]
  },
  {
   "cell_type": "code",
   "execution_count": null,
   "id": "f1d74867-a150-4fea-9a6d-cd13c5a93cea",
   "metadata": {},
   "outputs": [],
   "source": [
    "%%time\n",
    "cell = cage1_info.cell\n",
    "traj = trj.Trajectory(timestep = 5, data = \"/nobackup/rhtp48/data_ana/cage1-500K.xyz\", index = \":\", cell = cell)"
   ]
  },
  {
   "cell_type": "markdown",
   "id": "bf4e2f86-ee0d-47e8-bf58-d538251c2bb3",
   "metadata": {},
   "source": [
    "## Vector reorientation dynamics (VRD) of water O-H bonds"
   ]
  },
  {
   "cell_type": "code",
   "execution_count": null,
   "id": "c0dbd4a9-4a38-4642-a777-57c8ee1a61bf",
   "metadata": {},
   "outputs": [],
   "source": [
    "water_vrd = new_VRD(traj = traj, spec = [[14,],[15,16]], num = 500, sampling = 10, skip = 2)\n",
    "results = water_vrd.calculate(plot = False, l = 1)"
   ]
  },
  {
   "cell_type": "code",
   "execution_count": null,
   "id": "2986d4bf-240f-436f-803d-eaef3f0c40a0",
   "metadata": {},
   "outputs": [],
   "source": [
    "results.c_t_mean[:,0]"
   ]
  },
  {
   "cell_type": "code",
   "execution_count": null,
   "id": "c6a8b5fb-3d78-4bb3-aa04-0e39960eb015",
   "metadata": {},
   "outputs": [],
   "source": [
    "x_fit, y_fit, params = water_vrd.kww_func_fit(results.t, results.c_t_mean[:,0])"
   ]
  },
  {
   "cell_type": "code",
   "execution_count": null,
   "id": "a33e2cf5-c891-45bc-b43d-f44c9004c70d",
   "metadata": {},
   "outputs": [],
   "source": [
    "fig, ax = plt.subplots()\n",
    "ax.scatter(results.t, results.c_t_mean[:,0])\n",
    "ax.plot(x_fit, y_fit)\n",
    "plt.show()"
   ]
  },
  {
   "cell_type": "markdown",
   "id": "23a20de5-0c6d-40ca-a4e7-850093178c93",
   "metadata": {},
   "source": [
    "## VRD of trifluoroacetate ion C-C bond"
   ]
  },
  {
   "cell_type": "code",
   "execution_count": null,
   "id": "e58878aa-60ba-49e6-a81c-d79544dad2f3",
   "metadata": {},
   "outputs": [],
   "source": [
    "TFAs = cage1_info.TFAs"
   ]
  },
  {
   "cell_type": "code",
   "execution_count": null,
   "id": "b03b08cb-bb50-4c02-9916-e6750ba7f9a5",
   "metadata": {},
   "outputs": [],
   "source": [
    "spec = [*TFAs[0].values()]\n",
    "vrd = funcs.VRD(traj = traj, spec = [[spec[-2],], [spec[-1],]], num = 2000, sampling = 5, skip = 2)\n",
    "results = vrd.calculate(plot = False, l = 3)"
   ]
  }
 ],
 "metadata": {
  "kernelspec": {
   "display_name": "Python 3 (ipykernel)",
   "language": "python",
   "name": "python3"
  },
  "language_info": {
   "codemirror_mode": {
    "name": "ipython",
    "version": 3
   },
   "file_extension": ".py",
   "mimetype": "text/x-python",
   "name": "python",
   "nbconvert_exporter": "python",
   "pygments_lexer": "ipython3",
   "version": "3.9.9"
  }
 },
 "nbformat": 4,
 "nbformat_minor": 5
}
