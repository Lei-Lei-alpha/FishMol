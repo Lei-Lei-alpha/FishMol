{
 "cells": [
  {
   "cell_type": "markdown",
   "id": "9f36a0c7-9f68-4a08-af61-d9723fa91a18",
   "metadata": {},
   "source": [
    "# Reorientation lifetime of vectors"
   ]
  },
  {
   "cell_type": "code",
   "execution_count": 1,
   "id": "6185c8ee-cf86-438c-89bd-9111b22ec19d",
   "metadata": {},
   "outputs": [],
   "source": [
    "from fishmol import trj, atoms, utils, funcs, style\n",
    "from cage_data import cage1_info"
   ]
  },
  {
   "cell_type": "markdown",
   "id": "b2fece74-f531-4df4-aae8-29f26d2adae4",
   "metadata": {},
   "source": [
    "## Read trajectory file"
   ]
  },
  {
   "cell_type": "code",
   "execution_count": 2,
   "id": "f1d74867-a150-4fea-9a6d-cd13c5a93cea",
   "metadata": {},
   "outputs": [
    {
     "name": "stdout",
     "output_type": "stream",
     "text": [
      "CPU times: user 2min 13s, sys: 6.22 s, total: 2min 19s\n",
      "Wall time: 2min 21s\n"
     ]
    }
   ],
   "source": [
    "%%time\n",
    "cell = cage1_info.cell\n",
    "traj = trj.Trajectory(timestep = 5, data = \"/nobackup/rhtp48/data_ana/cage1-500K.xyz\", index = \":\", cell = cell)"
   ]
  },
  {
   "cell_type": "markdown",
   "id": "bf4e2f86-ee0d-47e8-bf58-d538251c2bb3",
   "metadata": {},
   "source": [
    "## Vector reorientation dynamics (VRD) of water O-H bonds"
   ]
  },
  {
   "cell_type": "code",
   "execution_count": 97,
   "id": "f12c39b1-412d-4775-81cd-76d1efb0ff7e",
   "metadata": {},
   "outputs": [],
   "source": [
    "import numpy as np\n",
    "from recordclass import make_dataclass\n",
    "import matplotlib.pyplot as plt\n",
    "from mpl_toolkits.axes_grid1 import make_axes_locatable\n",
    "from fishmol.utils import to_sublists, update_progress\n",
    "from fishmol import style\n",
    "from scipy.optimize import curve_fit\n",
    "from scipy.integrate import quad\n",
    "class new_VRD(object):\n",
    "    \"\"\"Vector Reorientation Dynamics\n",
    "    -----------------------------------------------------------------------------------------------------------------------------------------------------------------------------------\n",
    "    Arguments\n",
    "    spec : np.array or list of two atoms (two atom groups) that determine the vector\n",
    "    timestep : the timestep of the vector when using np.array input\n",
    "    traj : the input Trajectory object\n",
    "    num : int, length of frames to calculate the reorientation dynamics\n",
    "    skip : int, frames to skip = skip - 1. Determines the sampling step of the Trajectory, eg. skip = 1, use all frames in the Trajectory: skip = 10, skip 9 frames.\n",
    "    -----------------------------------------------------------------------------------------------------------------------------------------------------------------------------------\n",
    "    Returns\n",
    "    self.results:\n",
    "    - t: time calculated\n",
    "    - c_t_mean: the average c_t\n",
    "    - c_t_error: the error of c_t\n",
    "    \"\"\"\n",
    "    def __init__(self, traj = None, spec = None, timestep = None, num = 2000, sampling = 5, skip = 10):\n",
    "        results = make_dataclass(\"Results\", \"t c_t_mean c_t_error t_fit c_t_fit fit_params plot\")\n",
    "        self.results = results\n",
    "        self.traj = traj\n",
    "        self.spec = spec\n",
    "        self.num = num\n",
    "        self.sampling = sampling\n",
    "        self.skip = skip\n",
    "        if traj is not None:\n",
    "            self.traj = traj\n",
    "            self.t_step = traj.timestep\n",
    "        elif traj is None:\n",
    "            if isinstance(self.spec, np.ndarray):\n",
    "                if timestep is not None:\n",
    "                    self.t_step = timestep\n",
    "                else:\n",
    "                    print(\"VRD created with array of vectors without specifying timestep, using default timestep of 5 fs, please specify the timestep you are using if this is incorrect.\")\n",
    "                    self.t_step = 5\n",
    "            else:\n",
    "                raise Exception(\"Please either specify\\n:(i)a Trajectory object and a list of the indices of two atoms\\nor\\n(ii) a np.array object of vector data and the timestep of the vector data.\")\n",
    "        else:\n",
    "            raise Exception(\"Please either specify\\n:(i)a Trajectory object and a list of the indices of two atoms\\nor\\n(ii) a np.array object of vector data and the timestep of the vector data.\")\n",
    "        self.results.t = np.linspace(0, self.t_step * (self.num - 1) / 1000, num = self.num//self.sampling)\n",
    "    \n",
    "    def calculate(self, plot = True, l = 3, log_scale = False, fit = False, **kwargs):\n",
    "        if self.traj is not None:\n",
    "            if any([self.spec[0] is None, self.spec[1] is None]):\n",
    "                raise ValueError(\"Please specify atom groups \")\n",
    "            else:\n",
    "                combs = make_comb(*self.spec)\n",
    "            dot_products = np.zeros((len(self.results.t), len(combs)))\n",
    "            frame_chunks = to_sublists(self.traj.frames, self.num)[::self.skip]\n",
    "            for i, frame_chunk in enumerate(frame_chunks):\n",
    "                select = frame_chunk[::self.sampling]\n",
    "                dot_products[i] = ([np.diagonal(frame.vecs(combs, absolute = False, normalise = True, mic = True).dot(\n",
    "                    select[0].vecs(combs, absolute = False, normalise = True, mic = True).T)) for frame in select])\n",
    "                update_progress(i / len(frame_chunks))\n",
    "            \n",
    "        # If the vec is an array of vectors without traj\n",
    "        else:\n",
    "            vec_chunks = to_sublists(self.spec, self.num)[::self.skip]\n",
    "            dot_products = []\n",
    "            for i, vec_chunk in len(vec_chunks):\n",
    "                select = vec_chunk[::self.sampling]\n",
    "                dot_products.append([vecs.dot(vec_chunk[0]) / (np.linalg.norm(vecs) * vecs(vec_chunk[0])) for vecs in vec_chunk])\n",
    "                update_progress(i / len(frame_chunks))\n",
    "\n",
    "        if l == 1:\n",
    "            self.results.c_t_mean = dot_products.mean(axis = 0)\n",
    "            self.results.c_t_error = dot_products.std(axis = 0) / (len(frame_chunks))**0.5\n",
    "        \n",
    "        elif l == 2:\n",
    "            self.results.c_t_mean = ((3 * (dot_products)**2 - 1)/2).mean(axis = 0)\n",
    "            self.results.c_t_error = ((3 * (dot_products)**2 - 1)/2).std(axis = 0) / (len(frame_chunks))**0.5\n",
    "\n",
    "        elif l == 3:\n",
    "            self.results.c_t_mean = ((5 * (dot_products)**3 - 3 * (dot_products.mean(axis = 0)))/2).mean(axis = 0)\n",
    "            self.results.c_t_error = (((5 * (dot_products)**3 - 3 * (dot_products.mean(axis = 0)))/2)).std(axis = 0) / (len(frame_chunks))**0.5\n",
    "        \n",
    "        else:\n",
    "            raise ValueError(\"l = 1, 2 or 3\")\n",
    "\n",
    "#         def kww_func(t, tau, beta):\n",
    "#             return np.exp(-(t/tau)**beta)\n",
    "\n",
    "#         def kww_func_fit(x, y, tau = 150, beta = 0.4, maxfev = 10000):\n",
    "#             \"\"\"\n",
    "#             Fit the data with Kohlrausch-Willliams-Watts equation\n",
    "#             \"\"\"\n",
    "            \n",
    "#             params,_ = curve_fit(kww_func, x, y, p0=[tau, beta], maxfev = maxfev)\n",
    "#             x_fit = np.linspace(x.min(), x.max(), num = 200)\n",
    "#             y_fit = kww_func(x_fit, *params)\n",
    "#             print(\"The fitted KWW function paramters are:\\nalpha: {0}, beta: {1}\".format(*params))\n",
    "#             return x_fit, y_fit, params\n",
    "        # if fit:\n",
    "            # for \n",
    "            # self.results.t_fit, self.results.c_t_fit, self.results.fit_params = kww_func_fit(self.results.t.flatten(), self.results.c_t_mean.flatten())\n",
    "        \n",
    "        update_progress(1)\n",
    "        \n",
    "        # delete temp variable to release some memory\n",
    "        del frame_chunks, dot_products, select\n",
    "        \n",
    "        # Plot the results    \n",
    "        if plot:\n",
    "            fig, ax = plt.subplots(figsize = (4.2, 3.6))\n",
    "            for i in range(self.results.c_t_mean.shape[-1]):\n",
    "                ax.scatter(self.results.t, self.results.c_t_mean[i], **kwargs)\n",
    "            # if fit:\n",
    "            #     ax.plot(self.results.t_fit, self.results.c_t_fit, color = \"#525252\", lw = 2)\n",
    "            ax.set_xlabel(r\"$t$ (ps)\")\n",
    "            ax.set_ylabel(f\"$C^{l}_t$\")\n",
    "            if log_scale:\n",
    "                plt.semilogy()\n",
    "            plt.show()\n",
    "            self.results.plot = fig\n",
    "            \n",
    "        return self.results"
   ]
  },
  {
   "cell_type": "code",
   "execution_count": 81,
   "id": "3bedd80c-1537-4c2b-a18b-9ea3a4321d40",
   "metadata": {},
   "outputs": [
    {
     "data": {
      "text/plain": [
       "array([[0., 0., 0.],\n",
       "       [0., 0., 0.],\n",
       "       [0., 0., 0.],\n",
       "       [0., 0., 0.],\n",
       "       [0., 0., 0.]])"
      ]
     },
     "execution_count": 81,
     "metadata": {},
     "output_type": "execute_result"
    }
   ],
   "source": [
    "np.zeros((5,3))"
   ]
  },
  {
   "cell_type": "code",
   "execution_count": 83,
   "id": "a7a96868-5a34-453b-bd35-be182c18a043",
   "metadata": {},
   "outputs": [
    {
     "data": {
      "text/plain": [
       "10"
      ]
     },
     "execution_count": 83,
     "metadata": {},
     "output_type": "execute_result"
    }
   ],
   "source": [
    "a = np.linspace(0, 9, num = 10)\n",
    "len(a)"
   ]
  },
  {
   "cell_type": "code",
   "execution_count": 84,
   "id": "5d0c660f-67d7-429d-9bc6-64bf713d846b",
   "metadata": {},
   "outputs": [
    {
     "data": {
      "text/plain": [
       "array([[0., 0., 0., 0., 0.],\n",
       "       [0., 0., 0., 0., 0.],\n",
       "       [0., 0., 0., 0., 0.],\n",
       "       [0., 0., 0., 0., 0.],\n",
       "       [0., 0., 0., 0., 0.],\n",
       "       [0., 0., 0., 0., 0.],\n",
       "       [0., 0., 0., 0., 0.],\n",
       "       [0., 0., 0., 0., 0.],\n",
       "       [0., 0., 0., 0., 0.],\n",
       "       [0., 0., 0., 0., 0.]])"
      ]
     },
     "execution_count": 84,
     "metadata": {},
     "output_type": "execute_result"
    }
   ],
   "source": [
    "np.zeros((len(a), 5))"
   ]
  },
  {
   "cell_type": "code",
   "execution_count": 98,
   "id": "0dd9cdf5-4cc6-4df3-8473-5686e1701e7b",
   "metadata": {},
   "outputs": [],
   "source": [
    "    def kww_func(self, t, tau, beta):\n",
    "        return np.exp(-(t/tau)**beta)\n",
    "\n",
    "    def kww_func_fit(self, x, y, tau = 150, beta = 0.4, maxfev = 10000):\n",
    "        \"\"\"\n",
    "        Fit the data with Kohlrausch-Willliams-Watts equation\n",
    "        \"\"\"\n",
    "        params,_ = curve_fit(kww_func, x, y, p0=[tau, beta], maxfev = maxfev)\n",
    "        x_fit = np.linspace(x.min(), x.max(), num = 200)\n",
    "        y_fit = kww_func(x_fit, *params)\n",
    "        print(\"The fitted KWW function paramters are:\\nalpha: {0}, beta: {1}\".format(*params))\n",
    "        return x_fit, y_fit, params"
   ]
  },
  {
   "cell_type": "code",
   "execution_count": 99,
   "id": "c0dbd4a9-4a38-4642-a777-57c8ee1a61bf",
   "metadata": {},
   "outputs": [
    {
     "ename": "TypeError",
     "evalue": "vecs() missing 1 required positional argument: 'b'",
     "output_type": "error",
     "traceback": [
      "\u001b[0;31m---------------------------------------------------------------------------\u001b[0m",
      "\u001b[0;31mTypeError\u001b[0m                                 Traceback (most recent call last)",
      "\u001b[0;32m/tmp/ipykernel_83498/2797028089.py\u001b[0m in \u001b[0;36m<module>\u001b[0;34m\u001b[0m\n\u001b[1;32m      1\u001b[0m \u001b[0mwater_vrd\u001b[0m \u001b[0;34m=\u001b[0m \u001b[0mnew_VRD\u001b[0m\u001b[0;34m(\u001b[0m\u001b[0mtraj\u001b[0m \u001b[0;34m=\u001b[0m \u001b[0mtraj\u001b[0m\u001b[0;34m,\u001b[0m \u001b[0mspec\u001b[0m \u001b[0;34m=\u001b[0m \u001b[0;34m[\u001b[0m\u001b[0;36m14\u001b[0m\u001b[0;34m,\u001b[0m \u001b[0;34m[\u001b[0m\u001b[0;36m15\u001b[0m\u001b[0;34m,\u001b[0m \u001b[0;36m16\u001b[0m\u001b[0;34m]\u001b[0m\u001b[0;34m]\u001b[0m\u001b[0;34m,\u001b[0m \u001b[0mnum\u001b[0m \u001b[0;34m=\u001b[0m \u001b[0;36m200\u001b[0m\u001b[0;34m,\u001b[0m \u001b[0msampling\u001b[0m \u001b[0;34m=\u001b[0m \u001b[0;36m10\u001b[0m\u001b[0;34m,\u001b[0m \u001b[0mskip\u001b[0m \u001b[0;34m=\u001b[0m \u001b[0;36m5\u001b[0m\u001b[0;34m)\u001b[0m\u001b[0;34m\u001b[0m\u001b[0;34m\u001b[0m\u001b[0m\n\u001b[0;32m----> 2\u001b[0;31m \u001b[0mresults\u001b[0m \u001b[0;34m=\u001b[0m \u001b[0mwater_vrd\u001b[0m\u001b[0;34m.\u001b[0m\u001b[0mcalculate\u001b[0m\u001b[0;34m(\u001b[0m\u001b[0mplot\u001b[0m \u001b[0;34m=\u001b[0m \u001b[0;32mFalse\u001b[0m\u001b[0;34m,\u001b[0m \u001b[0ml\u001b[0m \u001b[0;34m=\u001b[0m \u001b[0;36m1\u001b[0m\u001b[0;34m)\u001b[0m\u001b[0;34m\u001b[0m\u001b[0;34m\u001b[0m\u001b[0m\n\u001b[0m",
      "\u001b[0;32m/tmp/ipykernel_83498/2851156239.py\u001b[0m in \u001b[0;36mcalculate\u001b[0;34m(self, plot, l, log_scale, fit, **kwargs)\u001b[0m\n\u001b[1;32m     57\u001b[0m             \u001b[0;32mfor\u001b[0m \u001b[0mi\u001b[0m\u001b[0;34m,\u001b[0m \u001b[0mframe_chunk\u001b[0m \u001b[0;32min\u001b[0m \u001b[0menumerate\u001b[0m\u001b[0;34m(\u001b[0m\u001b[0mframe_chunks\u001b[0m\u001b[0;34m)\u001b[0m\u001b[0;34m:\u001b[0m\u001b[0;34m\u001b[0m\u001b[0;34m\u001b[0m\u001b[0m\n\u001b[1;32m     58\u001b[0m                 \u001b[0mselect\u001b[0m \u001b[0;34m=\u001b[0m \u001b[0mframe_chunk\u001b[0m\u001b[0;34m[\u001b[0m\u001b[0;34m:\u001b[0m\u001b[0;34m:\u001b[0m\u001b[0mself\u001b[0m\u001b[0;34m.\u001b[0m\u001b[0msampling\u001b[0m\u001b[0;34m]\u001b[0m\u001b[0;34m\u001b[0m\u001b[0;34m\u001b[0m\u001b[0m\n\u001b[0;32m---> 59\u001b[0;31m                 dot_products[i] = ([np.diagonal(frame.vecs(combs, absolute = False, normalise = True, mic = True).dot(\n\u001b[0m\u001b[1;32m     60\u001b[0m                     select[0].vecs(combs, absolute = False, normalise = True, mic = True).T)) for frame in select])\n\u001b[1;32m     61\u001b[0m                 \u001b[0mupdate_progress\u001b[0m\u001b[0;34m(\u001b[0m\u001b[0mi\u001b[0m \u001b[0;34m/\u001b[0m \u001b[0mlen\u001b[0m\u001b[0;34m(\u001b[0m\u001b[0mframe_chunks\u001b[0m\u001b[0;34m)\u001b[0m\u001b[0;34m)\u001b[0m\u001b[0;34m\u001b[0m\u001b[0;34m\u001b[0m\u001b[0m\n",
      "\u001b[0;32m/tmp/ipykernel_83498/2851156239.py\u001b[0m in \u001b[0;36m<listcomp>\u001b[0;34m(.0)\u001b[0m\n\u001b[1;32m     57\u001b[0m             \u001b[0;32mfor\u001b[0m \u001b[0mi\u001b[0m\u001b[0;34m,\u001b[0m \u001b[0mframe_chunk\u001b[0m \u001b[0;32min\u001b[0m \u001b[0menumerate\u001b[0m\u001b[0;34m(\u001b[0m\u001b[0mframe_chunks\u001b[0m\u001b[0;34m)\u001b[0m\u001b[0;34m:\u001b[0m\u001b[0;34m\u001b[0m\u001b[0;34m\u001b[0m\u001b[0m\n\u001b[1;32m     58\u001b[0m                 \u001b[0mselect\u001b[0m \u001b[0;34m=\u001b[0m \u001b[0mframe_chunk\u001b[0m\u001b[0;34m[\u001b[0m\u001b[0;34m:\u001b[0m\u001b[0;34m:\u001b[0m\u001b[0mself\u001b[0m\u001b[0;34m.\u001b[0m\u001b[0msampling\u001b[0m\u001b[0;34m]\u001b[0m\u001b[0;34m\u001b[0m\u001b[0;34m\u001b[0m\u001b[0m\n\u001b[0;32m---> 59\u001b[0;31m                 dot_products[i] = ([np.diagonal(frame.vecs(combs, absolute = False, normalise = True, mic = True).dot(\n\u001b[0m\u001b[1;32m     60\u001b[0m                     select[0].vecs(combs, absolute = False, normalise = True, mic = True).T)) for frame in select])\n\u001b[1;32m     61\u001b[0m                 \u001b[0mupdate_progress\u001b[0m\u001b[0;34m(\u001b[0m\u001b[0mi\u001b[0m \u001b[0;34m/\u001b[0m \u001b[0mlen\u001b[0m\u001b[0;34m(\u001b[0m\u001b[0mframe_chunks\u001b[0m\u001b[0;34m)\u001b[0m\u001b[0;34m)\u001b[0m\u001b[0;34m\u001b[0m\u001b[0;34m\u001b[0m\u001b[0m\n",
      "\u001b[0;31mTypeError\u001b[0m: vecs() missing 1 required positional argument: 'b'"
     ]
    }
   ],
   "source": [
    "water_vrd = new_VRD(traj = traj, spec = [14, [15, 16]], num = 200, sampling = 10, skip = 5)\n",
    "results = water_vrd.calculate(plot = False, l = 1)"
   ]
  },
  {
   "cell_type": "code",
   "execution_count": 31,
   "id": "2bddd083-359b-4260-8858-f4f622490ac1",
   "metadata": {},
   "outputs": [
    {
     "data": {
      "text/plain": [
       "(20, 2)"
      ]
     },
     "execution_count": 31,
     "metadata": {},
     "output_type": "execute_result"
    }
   ],
   "source": [
    "results.c_t_mean.shape"
   ]
  },
  {
   "cell_type": "code",
   "execution_count": 79,
   "id": "ea983419-2fcb-4119-b918-de887b875347",
   "metadata": {},
   "outputs": [],
   "source": [
    "def make_comb(a, b):\n",
    "    if all([isinstance (a, int), isinstance(b, int)]):\n",
    "        comb = (a, b)\n",
    "    elif any([isinstance (a, int), isinstance(b, int)]):\n",
    "        try:\n",
    "            comb = [(a, x) for x in b]\n",
    "        except TypeError:\n",
    "            comb = [(x, b) for x in a]\n",
    "    elif all([isinstance (a, list), isinstance(b, list)]):\n",
    "        if all([isinstance(a[0], int), isinstance(b[0], int)]):\n",
    "            comb = list(zip(a, b))\n",
    "        elif any([isinstance(a[0], list), isinstance(b[0], list)]):\n",
    "            try:\n",
    "                comb = [list(zip(a, x)) for x in b]\n",
    "            except TypeError:\n",
    "                comb = [list(zip(x, b)) for x in a]\n",
    "            comb = [val for sublist in comb for val in sublist]\n",
    "        else:\n",
    "            raise ValueError(\"Valid input of a and b: int, list, list of lists of int.\")\n",
    "    else:\n",
    "        raise ValueError(\"Valid input of a and b: int, list, list of lists of int.\")\n",
    "    return comb"
   ]
  },
  {
   "cell_type": "code",
   "execution_count": 85,
   "id": "671b13d5-2ce5-4540-b31d-eb234e9dc9af",
   "metadata": {},
   "outputs": [
    {
     "ename": "ValueError",
     "evalue": "Valid input of a and b: int, list, list of lists of int.",
     "output_type": "error",
     "traceback": [
      "\u001b[0;31m---------------------------------------------------------------------------\u001b[0m",
      "\u001b[0;31mValueError\u001b[0m                                Traceback (most recent call last)",
      "\u001b[0;32m/tmp/ipykernel_83498/4067375430.py\u001b[0m in \u001b[0;36m<module>\u001b[0;34m\u001b[0m\n\u001b[1;32m      1\u001b[0m \u001b[0ma\u001b[0m \u001b[0;34m=\u001b[0m \u001b[0;32mNone\u001b[0m\u001b[0;34m\u001b[0m\u001b[0;34m\u001b[0m\u001b[0m\n\u001b[1;32m      2\u001b[0m \u001b[0mb\u001b[0m \u001b[0;34m=\u001b[0m \u001b[0;32mNone\u001b[0m\u001b[0;34m\u001b[0m\u001b[0;34m\u001b[0m\u001b[0m\n\u001b[0;32m----> 3\u001b[0;31m \u001b[0mmake_comb\u001b[0m\u001b[0;34m(\u001b[0m\u001b[0ma\u001b[0m\u001b[0;34m,\u001b[0m \u001b[0mb\u001b[0m\u001b[0;34m)\u001b[0m\u001b[0;34m\u001b[0m\u001b[0;34m\u001b[0m\u001b[0m\n\u001b[0m",
      "\u001b[0;32m/tmp/ipykernel_83498/3481144120.py\u001b[0m in \u001b[0;36mmake_comb\u001b[0;34m(a, b)\u001b[0m\n\u001b[1;32m     19\u001b[0m             \u001b[0;32mraise\u001b[0m \u001b[0mValueError\u001b[0m\u001b[0;34m(\u001b[0m\u001b[0;34m\"Valid input of a and b: int, list, list of lists of int.\"\u001b[0m\u001b[0;34m)\u001b[0m\u001b[0;34m\u001b[0m\u001b[0;34m\u001b[0m\u001b[0m\n\u001b[1;32m     20\u001b[0m     \u001b[0;32melse\u001b[0m\u001b[0;34m:\u001b[0m\u001b[0;34m\u001b[0m\u001b[0;34m\u001b[0m\u001b[0m\n\u001b[0;32m---> 21\u001b[0;31m         \u001b[0;32mraise\u001b[0m \u001b[0mValueError\u001b[0m\u001b[0;34m(\u001b[0m\u001b[0;34m\"Valid input of a and b: int, list, list of lists of int.\"\u001b[0m\u001b[0;34m)\u001b[0m\u001b[0;34m\u001b[0m\u001b[0;34m\u001b[0m\u001b[0m\n\u001b[0m\u001b[1;32m     22\u001b[0m     \u001b[0;32mreturn\u001b[0m \u001b[0mcomb\u001b[0m\u001b[0;34m\u001b[0m\u001b[0;34m\u001b[0m\u001b[0m\n",
      "\u001b[0;31mValueError\u001b[0m: Valid input of a and b: int, list, list of lists of int."
     ]
    }
   ],
   "source": [
    "a = None\n",
    "b = None\n",
    "make_comb(a, b)"
   ]
  },
  {
   "cell_type": "code",
   "execution_count": 68,
   "id": "80176a09-5d9c-4ff2-b394-73d6c68e110d",
   "metadata": {},
   "outputs": [
    {
     "data": {
      "text/plain": [
       "[(1, 2), (1, 3)]"
      ]
     },
     "execution_count": 68,
     "metadata": {},
     "output_type": "execute_result"
    }
   ],
   "source": [
    "a = 1\n",
    "b = [2, 3]\n",
    "make_comb(a, b)"
   ]
  },
  {
   "cell_type": "code",
   "execution_count": 69,
   "id": "16a83868-f2dd-4c53-8276-cc0ebb0ff18a",
   "metadata": {},
   "outputs": [
    {
     "data": {
      "text/plain": [
       "[(2, 1), (3, 1)]"
      ]
     },
     "execution_count": 69,
     "metadata": {},
     "output_type": "execute_result"
    }
   ],
   "source": [
    "a = [2, 3]\n",
    "b = 1\n",
    "make_comb(a, b)"
   ]
  },
  {
   "cell_type": "code",
   "execution_count": 80,
   "id": "eae5737c-3431-4bc3-94e8-13c8fabd1e44",
   "metadata": {},
   "outputs": [
    {
     "data": {
      "text/plain": [
       "[(2, 4), (3, 5)]"
      ]
     },
     "execution_count": 80,
     "metadata": {},
     "output_type": "execute_result"
    }
   ],
   "source": [
    "a = [2, 3]\n",
    "b = [4, 5]\n",
    "make_comb(a, b)"
   ]
  },
  {
   "cell_type": "code",
   "execution_count": null,
   "id": "2986d4bf-240f-436f-803d-eaef3f0c40a0",
   "metadata": {},
   "outputs": [],
   "source": [
    "results.c_t_mean[:,0]"
   ]
  },
  {
   "cell_type": "code",
   "execution_count": null,
   "id": "c6a8b5fb-3d78-4bb3-aa04-0e39960eb015",
   "metadata": {},
   "outputs": [],
   "source": [
    "x_fit, y_fit, params = water_vrd.kww_func_fit(results.t.flatten(), results.c_t_mean[:,0])"
   ]
  },
  {
   "cell_type": "code",
   "execution_count": 28,
   "id": "a33e2cf5-c891-45bc-b43d-f44c9004c70d",
   "metadata": {},
   "outputs": [
    {
     "data": {
      "image/png": "[encoded data removed]",
      "text/plain": [
       "<Figure size 302.4x259.2 with 1 Axes>"
      ]
     },
     "metadata": {
      "needs_background": "light"
     },
     "output_type": "display_data"
    }
   ],
   "source": [
    "fig, ax = plt.subplots()\n",
    "ax.scatter(results.t, results.c_t_mean[:,0])\n",
    "ax.plot(results.t_fit, results.c_t_fit)\n",
    "plt.show()"
   ]
  },
  {
   "cell_type": "markdown",
   "id": "23a20de5-0c6d-40ca-a4e7-850093178c93",
   "metadata": {},
   "source": [
    "## VRD of trifluoroacetate ion C-C bond"
   ]
  },
  {
   "cell_type": "code",
   "execution_count": null,
   "id": "e58878aa-60ba-49e6-a81c-d79544dad2f3",
   "metadata": {},
   "outputs": [],
   "source": [
    "TFAs = cage1_info.TFAs"
   ]
  },
  {
   "cell_type": "code",
   "execution_count": null,
   "id": "b03b08cb-bb50-4c02-9916-e6750ba7f9a5",
   "metadata": {},
   "outputs": [],
   "source": [
    "spec = [*TFAs[0].values()]\n",
    "vrd = funcs.VRD(traj = traj, spec = [[spec[-2],], [spec[-1],]], num = 2000, sampling = 5, skip = 2)\n",
    "results = vrd.calculate(plot = False, l = 3)"
   ]
  }
 ],
 "metadata": {
  "kernelspec": {
   "display_name": "Python 3 (ipykernel)",
   "language": "python",
   "name": "python3"
  },
  "language_info": {
   "codemirror_mode": {
    "name": "ipython",
    "version": 3
   },
   "file_extension": ".py",
   "mimetype": "text/x-python",
   "name": "python",
   "nbconvert_exporter": "python",
   "pygments_lexer": "ipython3",
   "version": "3.9.9"
  }
 },
 "nbformat": 4,
 "nbformat_minor": 5
}
