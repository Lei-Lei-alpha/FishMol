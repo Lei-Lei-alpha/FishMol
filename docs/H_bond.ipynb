{
 "cells": [
  {
   "cell_type": "markdown",
   "id": "366da69c-86ec-4198-b4b1-6f770f30b0eb",
   "metadata": {},
   "source": [
    "# H bond recognition and lifetime analysis"
   ]
  },
  {
   "cell_type": "markdown",
   "id": "003634da-868a-4093-a906-1843e385a0c4",
   "metadata": {},
   "source": [
    "## $R(\\text{D} \\cdot \\cdot \\cdot \\text{A}) - \\angle \\text{D} - \\text{H} \\cdot \\cdot \\cdot \\text{A}$ heatmap"
   ]
  },
  {
   "cell_type": "markdown",
   "id": "7aab9d4b-9c16-4321-856e-a26e80b9627b",
   "metadata": {},
   "source": [
    "## Import packages"
   ]
  },
  {
   "cell_type": "code",
   "execution_count": 18,
   "id": "7635c7b8-6378-4424-b171-a95e4dcbe246",
   "metadata": {},
   "outputs": [],
   "source": [
    "import json\n",
    "from cage_data import cage1_info\n",
    "from fishmol import trj, data\n",
    "from fishmol.utils import retrieve_symbol"
   ]
  },
  {
   "cell_type": "code",
   "execution_count": 8,
   "id": "656c5121-1f7b-4371-a91a-429fb1ee72e3",
   "metadata": {},
   "outputs": [],
   "source": [
    "def find_d_a(atoms_dict):\n",
    "    \"\"\"\n",
    "    Creat donor, acceptor dicts from atoms_dicts. Include one water to creat donor, acceptor for specified water.\n",
    "    \"\"\"\n",
    "    donors = []\n",
    "    acceptors = []\n",
    "    for a_dict in atoms_dict:\n",
    "        symbols = [retrieve_symbol(key) for key in list(a_dict.keys())] # retrieve chemical symbol from atoms_dict keys\n",
    "        if symbols[0] == \"F\":\n",
    "            acceptors += (a_dict,)\n",
    "        elif symbols[0] == \"N\":\n",
    "            if len(symbols) == 2:\n",
    "                donors += (a_dict,)\n",
    "            else:\n",
    "                combs = [{\"N\": a_dict[\"N\"], x: a_dict[x]} for x in list(a_dict.keys()) if x != \"N\"]\n",
    "                donors += (combs[0], combs[1])\n",
    "\n",
    "        elif symbols[0] == \"O\":\n",
    "            if symbols[0] == symbols[1]:\n",
    "                acceptors += (a_dict,)\n",
    "            elif len(symbols) == 2 and symbols[0] != symbols[1]:\n",
    "                donors += (a_dict,)\n",
    "            else:\n",
    "                combs = [{\"O\": a_dict[\"O\"], x: a_dict[x]} for x in list(a_dict.keys()) if x != \"O\"]\n",
    "                donors += (combs[0], combs[1])\n",
    "                acceptors += ({\"O\": a_dict[\"O\"]},)\n",
    "    print(f\"Done! {len(donors)} donors and {len(donors)} acceptors were found!\\n\" + \"Acceptors:\\n\", acceptors, \"\\n Donors:\\n\", donors)\n",
    "    return donors, acceptors"
   ]
  },
  {
   "cell_type": "code",
   "execution_count": 9,
   "id": "f75bc65d-9a31-4349-8c3c-3380a16da7ec",
   "metadata": {},
   "outputs": [],
   "source": [
    "def pair_d_a(donors, acceptors):\n",
    "    \"\"\"\n",
    "    Make d_a_pairs and d_h_a_pairs from the donors and acceptors dict.\n",
    "    \"\"\"\n",
    "    d_a_pairs = []\n",
    "    d_h_a_pairs = []\n",
    "    for donor in donors:\n",
    "        d_atom = [{x: donor[x]} for x in list(donor.keys()) if not x.startswith(\"H\")]\n",
    "        for acceptor in acceptors:\n",
    "            keys = list(acceptor.keys())\n",
    "\n",
    "            if len(keys) == 1:\n",
    "                symbol = list(d_atom[0].keys())[0]\n",
    "                if symbol == \"O\" and d_atom[0][symbol] == acceptor[keys[0]]: # exclude combinations where donor and acceptor are the same oxygen atom.\n",
    "                    print(f\"Donor and acceptor is the same atom: {symbol} {acceptor[keys[0]]}, skipped.\")\n",
    "                    continue\n",
    "                else:\n",
    "                    d_a_pairs += [[d_atom[0], acceptor],]\n",
    "                    d_h_a_pairs += [[donor, acceptor],]\n",
    "            else:\n",
    "                for key in keys:\n",
    "                    d_a_pairs += [[d_atom[0], {key: acceptor[key]}],]\n",
    "                    d_h_a_pairs += [[donor, {key: acceptor[key]}],]\n",
    "    print(f\"Unique donoar-acceptor/donoar-hydrogen-acceptor combinations: {len(d_a_pairs)}\")\n",
    "    print(f\"Sample donor-acceptor pair: {d_a_pairs[0]}\\nSample donor-hydrogen-acceptor pair: {d_h_a_pairs[0]}\")\n",
    "    return d_a_pairs, d_h_a_pairs"
   ]
  },
  {
   "cell_type": "code",
   "execution_count": 31,
   "id": "fc50c594-5fc9-4ab7-a45d-ee5bd17d637d",
   "metadata": {},
   "outputs": [],
   "source": [
    "def res_h(d_a_pairs, d_h_a_pairs, frames, water_d = None, water_a = None):\n",
    "    \"\"\"\n",
    "    Calculates the H-bond information in each frame of the trajectory.\n",
    "    \"\"\"\n",
    "    results = []\n",
    "    if water_d != None:\n",
    "        for i, frame in enumerate(frames):\n",
    "            hbonds = [] #list to store all hbonds in current frame\n",
    "            for d_a_pair, d_h_a_pair in zip(d_a_pairs, d_h_a_pairs):\n",
    "                # Keep water participated H-bonds only\n",
    "                if d_h_a_pair[0] in water_d or d_h_a_pair[1] in water_a:\n",
    "                    # Sum of van der Waals radii\n",
    "                    symbols = [list(item.keys()) for item in d_a_pair]\n",
    "                    symbols = [item for sublist in symbols for item in sublist] # flatten the list of lists\n",
    "                    symbols = [retrieve_symbol(symbol) for symbol in symbols] # Remove numbers and get chemical symbol from atoms_dict to be ready to pass to the vdW radii dict\n",
    "                    vdW_sum = data.vdW_R[symbols[0]] + data.vdW_R[symbols[1]]\n",
    "\n",
    "                    # not a H-bond of D-A distance is greater than their vdW radii times 1.05, 1.05 to take bond length change during MD simulation.\n",
    "                    r_d_a = distance(d_a_pair, frame)  # calculate the D-A distance\n",
    "                    if r_d_a <= 1.02 * vdW_sum:\n",
    "                        # calculate the D-H⋅⋅⋅A angle\n",
    "                        d_h_a_ang = frame.angle(*d_h_a_pair, mic = True)  # D-H···A angle               \n",
    "                        d_h = distance([d_h_a_pair[0],], frame) # calculate the D-H length\n",
    "\n",
    "                        # the D-H⋅⋅⋅A angle criteria used: the D-H⋅⋅⋅A angle is close to a right angle refer to the D-H⋅⋅⋅A angle - R(D⋅⋅⋅A) plot\n",
    "                        # an angle range is included considering the oscillation of bond lenghth and anlgle\n",
    "                        if d_h_a_ang >= (np.rad2deg(np.arctan2(r_d_a, d_h)) + 180)*3/8:\n",
    "                        # if d_h_a_ang >= 90:\n",
    "                            # Store current H-bond\n",
    "                            hbonds.append(\n",
    "                                  {\n",
    "                                      \"donor\": d_h_a_pair[0],\n",
    "                                      \"acceptor\": d_h_a_pair[1],\n",
    "                                      \"R(D-A)\": r_d_a,\n",
    "                                      \"DHA_ang\": d_h_a_ang,\n",
    "                                      \"r(D-H)\": d_h,\n",
    "                                  }\n",
    "                            )\n",
    "\n",
    "            results.append({f\"frame\": i, \"n_hbonds\": len(hbonds), \"hbonds\": hbonds})\n",
    "            \n",
    "    else:\n",
    "        for i, frame in enumerate(frames):\n",
    "            hbonds = [] #list to store all hbonds in current frame\n",
    "            for d_a_pair, d_h_a_pair in zip(d_a_pairs, d_h_a_pairs):\n",
    "                # Sum of van der Waals radii\n",
    "                symbols = [list(item.keys()) for item in d_a_pair]\n",
    "                symbols = [item for sublist in symbols for item in sublist] # flatten the list of lists\n",
    "                symbols = [retrieve_symbol(symbol) for symbol in symbols] # Remove numbers and get chemical symbol from atoms_dict to be ready to pass to the vdW radii dict\n",
    "                vdW_sum = data.vdW_R[symbols[0]] + data.vdW_R[symbols[1]]\n",
    "\n",
    "                # not a H-bond of D-A distance is greater than their vdW radii times 1.02, 1.02 to take bond length change during MD simulation.\n",
    "                r_d_a = frame.dist(*d_a_pair[0].values(), *d_a_pair[1].values(), mic = True) # calculate the D-A distance\n",
    "                if r_d_a <= 1.02 * vdW_sum:\n",
    "                    # calculate the D-H⋅⋅⋅A angle\n",
    "                    d_h_a_ang = frame.angle(*d_h_a_pair[0].values(), *d_h_a_pair[1].values(), mic = True)  # D-H···A angle               \n",
    "                    d_h = frame.dist(*d_h_a_pair[0].values(), mic = True) # calculate the D-H length\n",
    "\n",
    "                    # the D-H⋅⋅⋅A angle criteria used: the D-H⋅⋅⋅A angle is close to a right angle refer to the D-H⋅⋅⋅A angle - R(D⋅⋅⋅A) plot\n",
    "                    # an angle range is included considering the oscillation of bond lenghth and anlgle\n",
    "                    if d_h_a_ang >= (np.rad2deg(np.arctan2(r_d_a, d_h)) + 180)*3/8:\n",
    "                    # if d_h_a_ang >= 90:\n",
    "                        # Store current H-bond\n",
    "                        hbonds.append(\n",
    "                                {\n",
    "                                    \"donor\": d_h_a_pair[0],\n",
    "                                    \"acceptor\": d_h_a_pair[1],\n",
    "                                    \"R(D-A)\": r_d_a,\n",
    "                                    \"DHA_ang\": d_h_a_ang,\n",
    "                                    \"r(D-H)\": d_h,\n",
    "                                }\n",
    "                        )\n",
    "\n",
    "            results.append({f\"frame\": i, \"n_hbonds\": len(hbonds), \"hbonds\": hbonds})\n",
    "    return results"
   ]
  },
  {
   "cell_type": "code",
   "execution_count": 26,
   "id": "43a20a04-fd01-4f0c-859e-9e5a2f30b551",
   "metadata": {},
   "outputs": [
    {
     "data": {
      "text/plain": [
       "[{'O': 14}, {'O': 17}]"
      ]
     },
     "execution_count": 26,
     "metadata": {},
     "output_type": "execute_result"
    }
   ],
   "source": [
    "d_a_pairs[0]"
   ]
  },
  {
   "cell_type": "code",
   "execution_count": 3,
   "id": "fbaf1726-77f6-4ef2-b164-b60bc76a1806",
   "metadata": {},
   "outputs": [],
   "source": [
    "def pop_C(TFAs):\n",
    "    for TFA in TFAs:\n",
    "        [TFA.pop(key) for key in list(TFA.keys()) if key == \"C1\" or key == \"C2\"] # keep F and O in TFAs only for H-bond analysis\n",
    "    return TFAs"
   ]
  },
  {
   "cell_type": "code",
   "execution_count": 4,
   "id": "45c40dce-211c-4ce2-a909-f4d11f9f2119",
   "metadata": {},
   "outputs": [],
   "source": [
    "waters = cage1_info.waters\n",
    "TFAs = cage1_info.TFAs\n",
    "phenols = cage1_info.phenols\n",
    "amines = cage1_info.amines\n",
    "TFA_F_Os = pop_C(TFAs)\n",
    "atoms_dict = waters + phenols + amines + TFA_F_Os\n",
    "cell = cage1_info.cell"
   ]
  },
  {
   "cell_type": "code",
   "execution_count": 10,
   "id": "02335db5-0917-4c11-8ae9-e04806a358b2",
   "metadata": {},
   "outputs": [
    {
     "name": "stdout",
     "output_type": "stream",
     "text": [
      "Done! 40 donors and 40 acceptors were found!\n",
      "Acceptors:\n",
      " [{'O': 14}, {'O': 17}, {'O': 143}, {'O': 146}, {'O': 272}, {'O': 275}, {'O': 401}, {'O': 404}, {'F1': 0, 'F2': 1, 'F3': 2, 'O1': 3, 'O2': 4}, {'F1': 7, 'F2': 8, 'F3': 9, 'O1': 10, 'O2': 11}, {'F1': 129, 'F2': 130, 'F3': 131, 'O1': 132, 'O2': 133}, {'F1': 136, 'F2': 137, 'F3': 138, 'O1': 139, 'O2': 140}, {'F1': 258, 'F2': 259, 'F3': 260, 'O1': 261, 'O2': 262}, {'F1': 265, 'F2': 266, 'F3': 267, 'O1': 268, 'O2': 269}, {'F1': 387, 'F2': 388, 'F3': 389, 'O1': 390, 'O2': 391}, {'F1': 394, 'F2': 395, 'F3': 396, 'O1': 397, 'O2': 398}] \n",
      " Donors:\n",
      " [{'O': 14, 'H1': 15}, {'O': 14, 'H2': 16}, {'O': 17, 'H1': 18}, {'O': 17, 'H2': 19}, {'O': 143, 'H1': 144}, {'O': 143, 'H2': 145}, {'O': 146, 'H1': 147}, {'O': 146, 'H2': 148}, {'O': 272, 'H1': 273}, {'O': 272, 'H2': 274}, {'O': 275, 'H1': 276}, {'O': 275, 'H2': 277}, {'O': 401, 'H1': 402}, {'O': 401, 'H2': 403}, {'O': 404, 'H1': 405}, {'O': 404, 'H2': 406}, {'O': 24, 'H': 25}, {'O': 411, 'H': 412}, {'O': 153, 'H': 154}, {'O': 282, 'H': 283}, {'N': 410, 'H1': 284}, {'N': 410, 'H2': 285}, {'N': 409, 'H': 128}, {'N': 407, 'H1': 28}, {'N': 407, 'H2': 29}, {'N': 152, 'H1': 26}, {'N': 152, 'H2': 27}, {'N': 149, 'H1': 286}, {'N': 149, 'H2': 287}, {'N': 151, 'H': 386}, {'N': 280, 'H': 257}, {'N': 278, 'H1': 157}, {'N': 278, 'H2': 158}, {'N': 281, 'H1': 413}, {'N': 281, 'H2': 414}, {'N': 23, 'H1': 155}, {'N': 23, 'H2': 156}, {'N': 22, 'H1': 515}, {'N': 20, 'H1': 415}, {'N': 20, 'H2': 416}]\n",
      "Donor and acceptor is the same atom: O 14, skipped.\n",
      "Donor and acceptor is the same atom: O 14, skipped.\n",
      "Donor and acceptor is the same atom: O 17, skipped.\n",
      "Donor and acceptor is the same atom: O 17, skipped.\n",
      "Donor and acceptor is the same atom: O 143, skipped.\n",
      "Donor and acceptor is the same atom: O 143, skipped.\n",
      "Donor and acceptor is the same atom: O 146, skipped.\n",
      "Donor and acceptor is the same atom: O 146, skipped.\n",
      "Donor and acceptor is the same atom: O 272, skipped.\n",
      "Donor and acceptor is the same atom: O 272, skipped.\n",
      "Donor and acceptor is the same atom: O 275, skipped.\n",
      "Donor and acceptor is the same atom: O 275, skipped.\n",
      "Donor and acceptor is the same atom: O 401, skipped.\n",
      "Donor and acceptor is the same atom: O 401, skipped.\n",
      "Donor and acceptor is the same atom: O 404, skipped.\n",
      "Donor and acceptor is the same atom: O 404, skipped.\n",
      "Unique donoar-acceptor/donoar-hydrogen-acceptor combinations: 1904\n",
      "Sample donor-acceptor pair: [{'O': 14}, {'O': 17}]\n",
      "Sample donor-hydrogen-acceptor pair: [{'O': 14, 'H1': 15}, {'O': 17}]\n"
     ]
    }
   ],
   "source": [
    "donors, acceptors = find_d_a(atoms_dict = atoms_dict)\n",
    "d_a_pairs, d_h_a_pairs = pair_d_a(donors = donors, acceptors = acceptors)"
   ]
  },
  {
   "cell_type": "code",
   "execution_count": 33,
   "id": "2d813c6f-12b1-47f9-a796-49e3d2d934da",
   "metadata": {},
   "outputs": [],
   "source": [
    "import numpy as np"
   ]
  },
  {
   "cell_type": "code",
   "execution_count": 36,
   "id": "57316f18-f86e-4f62-9648-90f3f91fa76b",
   "metadata": {},
   "outputs": [
    {
     "name": "stdout",
     "output_type": "stream",
     "text": [
      "CPU times: user 2min 12s, sys: 3.19 s, total: 2min 15s\n",
      "Wall time: 2min 16s\n"
     ]
    }
   ],
   "source": [
    "%%time\n",
    "traj = trj.Trajectory(timestep = 5, data = \"/nobackup/rhtp48/data_ana/cage1-500K.xyz\", index = \":\", cell = cell)"
   ]
  },
  {
   "cell_type": "code",
   "execution_count": 37,
   "id": "79770932-e3c3-411d-a7de-648492096f6a",
   "metadata": {},
   "outputs": [
    {
     "data": {
      "text/plain": [
       "<fishmol.trj.Trajectory at 0x7f61b03ca4f0>"
      ]
     },
     "execution_count": 37,
     "metadata": {},
     "output_type": "execute_result"
    }
   ],
   "source": [
    "traj.wrap2box()"
   ]
  },
  {
   "cell_type": "code",
   "execution_count": 38,
   "id": "f4b60c75-a109-4b0d-99bb-79879579dd68",
   "metadata": {},
   "outputs": [
    {
     "name": "stdout",
     "output_type": "stream",
     "text": [
      "CPU times: user 3h 38min 2s, sys: 3h 59min 28s, total: 7h 37min 30s\n",
      "Wall time: 2h 35min 1s\n"
     ]
    }
   ],
   "source": [
    "%%time\n",
    "hbonds = res_h(d_a_pairs = d_a_pairs, d_h_a_pairs = d_h_a_pairs, frames = traj.frames)"
   ]
  },
  {
   "cell_type": "code",
   "execution_count": 39,
   "id": "26885623-dad4-4bbf-9893-afab4fb1870b",
   "metadata": {},
   "outputs": [],
   "source": [
    "with open(\"/nobackup/rhtp48/data_ana/results/cage1-hbonds-500K.json\", \"w\") as json_file:\n",
    "    json.dump(hbonds, json_file)\n",
    "json_file.close()"
   ]
  },
  {
   "cell_type": "markdown",
   "id": "51288b93-6daa-474c-aa33-96d7f532a8ab",
   "metadata": {},
   "source": [
    "### All H bonds"
   ]
  },
  {
   "cell_type": "code",
   "execution_count": 40,
   "id": "ea16cf0f-d6cc-410e-8aea-ec8992f5765e",
   "metadata": {},
   "outputs": [],
   "source": [
    "# import json\n",
    "# # Opening JSON file\n",
    "# f = open('results/cage1/nvt-500K/hbonds_500K.json')\n",
    " \n",
    "# # returns JSON object as a dictionary\n",
    "# hbonds = json.load(f)\n",
    " \n",
    "# Iterating through the json list\n",
    "nhbonds=[]\n",
    "d_h_a_ang = []\n",
    "r_d_a = []\n",
    "for hbond in hbonds:\n",
    "    nhbonds.append(hbond[\"n_hbonds\"])\n",
    "    a = hbond[\"hbonds\"]\n",
    "    for element in a:\n",
    "        r_d_a.append(element[\"R(D-A)\"])\n",
    "        d_h_a_ang.append(element[\"DHA_ang\"])"
   ]
  },
  {
   "cell_type": "code",
   "execution_count": 43,
   "id": "71e89c09-dc3a-4d08-9a3d-6ff4153eaef7",
   "metadata": {},
   "outputs": [
    {
     "data": {
      "image/png": "[encoded data removed]",
      "text/plain": [
       "<Figure size 331.2x230.4 with 2 Axes>"
      ]
     },
     "metadata": {
      "needs_background": "light"
     },
     "output_type": "display_data"
    }
   ],
   "source": [
    "import matplotlib.pyplot as plt\n",
    "_, ax =plt.subplots(figsize = (4.6, 3.2), constrained_layout =  True)\n",
    "heatmap, xedges, yedges = np.histogram2d(np.array(r_d_a, dtype = float), np.array(d_h_a_ang, dtype = float), bins=150)\n",
    "\n",
    "extent = [xedges[0], xedges[-1], yedges[0], yedges[-1]]\n",
    "\n",
    "im = ax.imshow(heatmap.T, extent=extent, origin='lower', aspect = \"auto\")\n",
    "cbar = ax.figure.colorbar(im, ax = ax)\n",
    "cbar.ax.set_ylabel(\"Counts\", rotation=90, labelpad = 8.5, va=\"center\", ha =\"center\")\n",
    "ax.set_xlabel(\"$R\\mathrm{(D\\cdot \\cdot \\cdot A)}$ ($\\mathrm{\\AA}$)\")\n",
    "ax.set_ylabel(\"$\\mathrm{(D-H\\cdot \\cdot \\cdot A)}$ angle (°)\")\n",
    "\n",
    "plt.savefig(\"test/cage1-all_hbonds_angle_r_heatmap.jpg\", dpi = 600)\n",
    "\n",
    "plt.show()"
   ]
  },
  {
   "cell_type": "markdown",
   "id": "056e4ac0-3ab3-43fe-a3d6-9e3f4c50a93a",
   "metadata": {},
   "source": [
    "### H bonds with the participance of water molecules"
   ]
  },
  {
   "cell_type": "code",
   "execution_count": null,
   "id": "e625132d-2bd0-4ca7-a821-68e302cca3a4",
   "metadata": {},
   "outputs": [],
   "source": []
  }
 ],
 "metadata": {
  "kernelspec": {
   "display_name": "Python 3 (ipykernel)",
   "language": "python",
   "name": "python3"
  },
  "language_info": {
   "codemirror_mode": {
    "name": "ipython",
    "version": 3
   },
   "file_extension": ".py",
   "mimetype": "text/x-python",
   "name": "python",
   "nbconvert_exporter": "python",
   "pygments_lexer": "ipython3",
   "version": "3.9.9"
  }
 },
 "nbformat": 4,
 "nbformat_minor": 5
}
