{
 "cells": [
  {
   "cell_type": "markdown",
   "id": "1bbf19af-0bd2-401c-a636-8d7e672d1747",
   "metadata": {},
   "source": [
    "# Diffusion anisotropy"
   ]
  },
  {
   "cell_type": "markdown",
   "id": "86eb0bf1-220d-4af7-966a-7b26c24ecc34",
   "metadata": {},
   "source": [
    "## Import packages"
   ]
  },
  {
   "cell_type": "code",
   "execution_count": 1,
   "id": "e26fffd6-e5ec-4a3f-ac31-43dd7b8533d0",
   "metadata": {},
   "outputs": [],
   "source": [
    "import pandas as pd\n",
    "import numpy as np\n",
    "import matplotlib.pyplot as plt\n",
    "from cage_data import cage1_info\n",
    "from fishmol.utils import update_progress, vector, Arrow3D\n",
    "from fishmol import msd"
   ]
  },
  {
   "cell_type": "markdown",
   "id": "e2fc4de8-9323-471c-a486-fb47baabdf7e",
   "metadata": {},
   "source": [
    "## Load water CoM data"
   ]
  },
  {
   "cell_type": "code",
   "execution_count": 2,
   "id": "e5012c29-1843-4630-afa1-f3b449faf47a",
   "metadata": {},
   "outputs": [
    {
     "data": {
      "text/html": [
       "<div>\n",
       "<style scoped>\n",
       "    .dataframe tbody tr th:only-of-type {\n",
       "        vertical-align: middle;\n",
       "    }\n",
       "\n",
       "    .dataframe tbody tr th {\n",
       "        vertical-align: top;\n",
       "    }\n",
       "\n",
       "    .dataframe thead th {\n",
       "        text-align: right;\n",
       "    }\n",
       "</style>\n",
       "<table border=\"1\" class=\"dataframe\">\n",
       "  <thead>\n",
       "    <tr style=\"text-align: right;\">\n",
       "      <th></th>\n",
       "      <th>water1_x</th>\n",
       "      <th>water1_y</th>\n",
       "      <th>water1_z</th>\n",
       "      <th>water2_x</th>\n",
       "      <th>water2_y</th>\n",
       "      <th>water2_z</th>\n",
       "      <th>water3_x</th>\n",
       "      <th>water3_y</th>\n",
       "      <th>water3_z</th>\n",
       "      <th>water4_x</th>\n",
       "      <th>...</th>\n",
       "      <th>water5_z</th>\n",
       "      <th>water6_x</th>\n",
       "      <th>water6_y</th>\n",
       "      <th>water6_z</th>\n",
       "      <th>water7_x</th>\n",
       "      <th>water7_y</th>\n",
       "      <th>water7_z</th>\n",
       "      <th>water8_x</th>\n",
       "      <th>water8_y</th>\n",
       "      <th>water8_z</th>\n",
       "    </tr>\n",
       "  </thead>\n",
       "  <tbody>\n",
       "    <tr>\n",
       "      <th>0</th>\n",
       "      <td>10.586316</td>\n",
       "      <td>19.902134</td>\n",
       "      <td>10.380009</td>\n",
       "      <td>0.624155</td>\n",
       "      <td>10.923925</td>\n",
       "      <td>8.298079</td>\n",
       "      <td>-1.967392</td>\n",
       "      <td>4.261146</td>\n",
       "      <td>12.241481</td>\n",
       "      <td>4.693672</td>\n",
       "      <td>...</td>\n",
       "      <td>4.725172</td>\n",
       "      <td>15.090375</td>\n",
       "      <td>8.649502</td>\n",
       "      <td>6.883228</td>\n",
       "      <td>17.759366</td>\n",
       "      <td>15.321196</td>\n",
       "      <td>2.865725</td>\n",
       "      <td>11.019290</td>\n",
       "      <td>3.578953</td>\n",
       "      <td>0.703805</td>\n",
       "    </tr>\n",
       "    <tr>\n",
       "      <th>1</th>\n",
       "      <td>10.597616</td>\n",
       "      <td>19.945151</td>\n",
       "      <td>10.393126</td>\n",
       "      <td>0.617881</td>\n",
       "      <td>10.942585</td>\n",
       "      <td>8.312331</td>\n",
       "      <td>-1.961926</td>\n",
       "      <td>4.253910</td>\n",
       "      <td>12.205821</td>\n",
       "      <td>4.689873</td>\n",
       "      <td>...</td>\n",
       "      <td>4.745156</td>\n",
       "      <td>15.076014</td>\n",
       "      <td>8.640429</td>\n",
       "      <td>6.849210</td>\n",
       "      <td>17.749958</td>\n",
       "      <td>15.278667</td>\n",
       "      <td>2.889409</td>\n",
       "      <td>11.049146</td>\n",
       "      <td>3.587807</td>\n",
       "      <td>0.663123</td>\n",
       "    </tr>\n",
       "    <tr>\n",
       "      <th>2</th>\n",
       "      <td>10.610208</td>\n",
       "      <td>20.003821</td>\n",
       "      <td>10.408405</td>\n",
       "      <td>0.610859</td>\n",
       "      <td>10.967922</td>\n",
       "      <td>8.330438</td>\n",
       "      <td>-1.953047</td>\n",
       "      <td>4.243309</td>\n",
       "      <td>12.156421</td>\n",
       "      <td>4.687198</td>\n",
       "      <td>...</td>\n",
       "      <td>4.767198</td>\n",
       "      <td>15.058083</td>\n",
       "      <td>8.628816</td>\n",
       "      <td>6.804086</td>\n",
       "      <td>17.738720</td>\n",
       "      <td>15.225162</td>\n",
       "      <td>2.920655</td>\n",
       "      <td>11.086905</td>\n",
       "      <td>3.600664</td>\n",
       "      <td>0.608757</td>\n",
       "    </tr>\n",
       "    <tr>\n",
       "      <th>3</th>\n",
       "      <td>10.622718</td>\n",
       "      <td>20.062112</td>\n",
       "      <td>10.416761</td>\n",
       "      <td>0.604688</td>\n",
       "      <td>10.993416</td>\n",
       "      <td>8.349495</td>\n",
       "      <td>-1.945208</td>\n",
       "      <td>4.229969</td>\n",
       "      <td>12.106099</td>\n",
       "      <td>4.687512</td>\n",
       "      <td>...</td>\n",
       "      <td>4.786539</td>\n",
       "      <td>15.040753</td>\n",
       "      <td>8.617851</td>\n",
       "      <td>6.760128</td>\n",
       "      <td>17.728982</td>\n",
       "      <td>15.181476</td>\n",
       "      <td>2.948253</td>\n",
       "      <td>11.122864</td>\n",
       "      <td>3.614650</td>\n",
       "      <td>0.558271</td>\n",
       "    </tr>\n",
       "    <tr>\n",
       "      <th>4</th>\n",
       "      <td>10.636664</td>\n",
       "      <td>20.122749</td>\n",
       "      <td>10.416813</td>\n",
       "      <td>0.597829</td>\n",
       "      <td>11.020753</td>\n",
       "      <td>8.373153</td>\n",
       "      <td>-1.941190</td>\n",
       "      <td>4.211549</td>\n",
       "      <td>12.054352</td>\n",
       "      <td>4.691621</td>\n",
       "      <td>...</td>\n",
       "      <td>4.808036</td>\n",
       "      <td>15.020218</td>\n",
       "      <td>8.605213</td>\n",
       "      <td>6.714651</td>\n",
       "      <td>17.717884</td>\n",
       "      <td>15.151479</td>\n",
       "      <td>2.970079</td>\n",
       "      <td>11.155729</td>\n",
       "      <td>3.629731</td>\n",
       "      <td>0.511643</td>\n",
       "    </tr>\n",
       "  </tbody>\n",
       "</table>\n",
       "<p>5 rows × 24 columns</p>\n",
       "</div>"
      ],
      "text/plain": [
       "    water1_x   water1_y   water1_z  water2_x   water2_y  water2_z  water3_x  \\\n",
       "0  10.586316  19.902134  10.380009  0.624155  10.923925  8.298079 -1.967392   \n",
       "1  10.597616  19.945151  10.393126  0.617881  10.942585  8.312331 -1.961926   \n",
       "2  10.610208  20.003821  10.408405  0.610859  10.967922  8.330438 -1.953047   \n",
       "3  10.622718  20.062112  10.416761  0.604688  10.993416  8.349495 -1.945208   \n",
       "4  10.636664  20.122749  10.416813  0.597829  11.020753  8.373153 -1.941190   \n",
       "\n",
       "   water3_y   water3_z  water4_x  ...  water5_z   water6_x  water6_y  \\\n",
       "0  4.261146  12.241481  4.693672  ...  4.725172  15.090375  8.649502   \n",
       "1  4.253910  12.205821  4.689873  ...  4.745156  15.076014  8.640429   \n",
       "2  4.243309  12.156421  4.687198  ...  4.767198  15.058083  8.628816   \n",
       "3  4.229969  12.106099  4.687512  ...  4.786539  15.040753  8.617851   \n",
       "4  4.211549  12.054352  4.691621  ...  4.808036  15.020218  8.605213   \n",
       "\n",
       "   water6_z   water7_x   water7_y  water7_z   water8_x  water8_y  water8_z  \n",
       "0  6.883228  17.759366  15.321196  2.865725  11.019290  3.578953  0.703805  \n",
       "1  6.849210  17.749958  15.278667  2.889409  11.049146  3.587807  0.663123  \n",
       "2  6.804086  17.738720  15.225162  2.920655  11.086905  3.600664  0.608757  \n",
       "3  6.760128  17.728982  15.181476  2.948253  11.122864  3.614650  0.558271  \n",
       "4  6.714651  17.717884  15.151479  2.970079  11.155729  3.629731  0.511643  \n",
       "\n",
       "[5 rows x 24 columns]"
      ]
     },
     "execution_count": 2,
     "metadata": {},
     "output_type": "execute_result"
    }
   ],
   "source": [
    "water_com = pd.read_excel(\"test/cage1-500K-water-com.xlsx\", header=0, index_col=0, engine = \"openpyxl\")\n",
    "water_com.head()"
   ]
  },
  {
   "cell_type": "markdown",
   "id": "8d42fb65-1da8-4835-aca0-b2f8177e4ab7",
   "metadata": {},
   "source": [
    "## Calculate 1D diffusion coefficient on a spherical meshgrid"
   ]
  },
  {
   "cell_type": "code",
   "execution_count": 3,
   "id": "e3e53ec0-3104-4963-a87b-62679dda82c4",
   "metadata": {},
   "outputs": [
    {
     "ename": "NameError",
     "evalue": "name 'update_progress' is not defined",
     "output_type": "error",
     "traceback": [
      "\u001b[0;31m---------------------------------------------------------------------------\u001b[0m",
      "\u001b[0;31mNameError\u001b[0m                                 Traceback (most recent call last)",
      "\u001b[0;32m/tmp/ipykernel_3337736/4201235139.py\u001b[0m in \u001b[0;36m<module>\u001b[0;34m\u001b[0m\n\u001b[1;32m      1\u001b[0m \u001b[0mwater_num\u001b[0m \u001b[0;34m=\u001b[0m \u001b[0;36m8\u001b[0m\u001b[0;34m\u001b[0m\u001b[0;34m\u001b[0m\u001b[0m\n\u001b[0;32m----> 2\u001b[0;31m \u001b[0mvecs\u001b[0m\u001b[0;34m,\u001b[0m \u001b[0mave_d\u001b[0m \u001b[0;34m=\u001b[0m \u001b[0mmsd\u001b[0m\u001b[0;34m.\u001b[0m\u001b[0mproj_d\u001b[0m\u001b[0;34m(\u001b[0m\u001b[0mdf\u001b[0m \u001b[0;34m=\u001b[0m \u001b[0mwater_com\u001b[0m\u001b[0;34m,\u001b[0m \u001b[0mnum\u001b[0m \u001b[0;34m=\u001b[0m \u001b[0mwater_num\u001b[0m\u001b[0;34m)\u001b[0m\u001b[0;34m\u001b[0m\u001b[0;34m\u001b[0m\u001b[0m\n\u001b[0m",
      "\u001b[0;32m/nobackup/rhtp48/fishmol/fishmol/msd.py\u001b[0m in \u001b[0;36mproj_d\u001b[0;34m(df, num, start_idx, n_theta, n_phi, timestep, filename, plot, figname)\u001b[0m\n\u001b[1;32m     76\u001b[0m         \u001b[0mlinear_model\u001b[0m\u001b[0;34m=\u001b[0m\u001b[0mnp\u001b[0m\u001b[0;34m.\u001b[0m\u001b[0mpolyfit\u001b[0m\u001b[0;34m(\u001b[0m\u001b[0mt\u001b[0m\u001b[0;34m/\u001b[0m\u001b[0;36m1000\u001b[0m\u001b[0;34m,\u001b[0m \u001b[0mave_msd\u001b[0m\u001b[0;34m,\u001b[0m \u001b[0;36m1\u001b[0m\u001b[0;34m)\u001b[0m\u001b[0;34m\u001b[0m\u001b[0;34m\u001b[0m\u001b[0m\n\u001b[1;32m     77\u001b[0m         \u001b[0mave_D\u001b[0m\u001b[0;34m[\u001b[0m\u001b[0mi\u001b[0m\u001b[0;34m]\u001b[0m \u001b[0;34m=\u001b[0m \u001b[0mlinear_model\u001b[0m\u001b[0;34m[\u001b[0m\u001b[0;36m0\u001b[0m\u001b[0;34m]\u001b[0m\u001b[0;34m/\u001b[0m\u001b[0;36m20000\u001b[0m\u001b[0;34m\u001b[0m\u001b[0;34m\u001b[0m\u001b[0m\n\u001b[0;32m---> 78\u001b[0;31m         \u001b[0mupdate_progress\u001b[0m\u001b[0;34m(\u001b[0m\u001b[0mi\u001b[0m \u001b[0;34m/\u001b[0m \u001b[0mlen\u001b[0m\u001b[0;34m(\u001b[0m\u001b[0mvecs\u001b[0m\u001b[0;34m)\u001b[0m\u001b[0;34m)\u001b[0m\u001b[0;34m\u001b[0m\u001b[0;34m\u001b[0m\u001b[0m\n\u001b[0m\u001b[1;32m     79\u001b[0m     \u001b[0mupdate_progress\u001b[0m\u001b[0;34m(\u001b[0m\u001b[0;36m1\u001b[0m\u001b[0;34m)\u001b[0m\u001b[0;34m\u001b[0m\u001b[0;34m\u001b[0m\u001b[0m\n\u001b[1;32m     80\u001b[0m     \u001b[0;32mreturn\u001b[0m \u001b[0mvecs\u001b[0m\u001b[0;34m,\u001b[0m \u001b[0mave_D\u001b[0m\u001b[0;34m\u001b[0m\u001b[0;34m\u001b[0m\u001b[0m\n",
      "\u001b[0;31mNameError\u001b[0m: name 'update_progress' is not defined"
     ]
    }
   ],
   "source": [
    "water_num = 8\n",
    "vecs, ave_d = msd.proj_d(df = water_com, num = water_num)"
   ]
  },
  {
   "cell_type": "code",
   "execution_count": 11,
   "id": "748b6418-0c39-48d6-b869-061784805776",
   "metadata": {},
   "outputs": [
    {
     "data": {
      "text/plain": [
       "array([[ 1.22464680e-16, -7.49879891e-33, -1.00000000e+00],\n",
       "       [ 5.27753471e-02, -3.23155800e-18, -9.98606410e-01],\n",
       "       [ 1.05403600e-01, -6.45410906e-18, -9.94429525e-01],\n",
       "       ...,\n",
       "       [ 1.29082181e-17, -1.05403600e-01, -9.94429525e-01],\n",
       "       [ 6.46311599e-18, -5.27753471e-02, -9.98606410e-01],\n",
       "       [ 1.49975978e-32, -1.22464680e-16, -1.00000000e+00]])"
      ]
     },
     "execution_count": 11,
     "metadata": {},
     "output_type": "execute_result"
    }
   ],
   "source": [
    "vecs"
   ]
  },
  {
   "cell_type": "code",
   "execution_count": 24,
   "id": "6350b483-06ac-4e15-95cf-14c4d6f9d7be",
   "metadata": {},
   "outputs": [],
   "source": [
    "data = np.concatenate((vecs, ave_d.reshape((len(vecs), 1))), axis = 1)"
   ]
  },
  {
   "cell_type": "code",
   "execution_count": 25,
   "id": "9906fc80-1371-4822-8fcd-7eaff1c1d2bf",
   "metadata": {},
   "outputs": [
    {
     "data": {
      "text/html": [
       "<div>\n",
       "<style scoped>\n",
       "    .dataframe tbody tr th:only-of-type {\n",
       "        vertical-align: middle;\n",
       "    }\n",
       "\n",
       "    .dataframe tbody tr th {\n",
       "        vertical-align: top;\n",
       "    }\n",
       "\n",
       "    .dataframe thead th {\n",
       "        text-align: right;\n",
       "    }\n",
       "</style>\n",
       "<table border=\"1\" class=\"dataframe\">\n",
       "  <thead>\n",
       "    <tr style=\"text-align: right;\">\n",
       "      <th></th>\n",
       "      <th>x</th>\n",
       "      <th>y</th>\n",
       "      <th>z</th>\n",
       "      <th>mean_D</th>\n",
       "    </tr>\n",
       "  </thead>\n",
       "  <tbody>\n",
       "    <tr>\n",
       "      <th>0</th>\n",
       "      <td>1.224647e-16</td>\n",
       "      <td>-7.498799e-33</td>\n",
       "      <td>-1.000000</td>\n",
       "      <td>0.000017</td>\n",
       "    </tr>\n",
       "    <tr>\n",
       "      <th>1</th>\n",
       "      <td>5.277535e-02</td>\n",
       "      <td>-3.231558e-18</td>\n",
       "      <td>-0.998606</td>\n",
       "      <td>0.000018</td>\n",
       "    </tr>\n",
       "    <tr>\n",
       "      <th>2</th>\n",
       "      <td>1.054036e-01</td>\n",
       "      <td>-6.454109e-18</td>\n",
       "      <td>-0.994430</td>\n",
       "      <td>0.000019</td>\n",
       "    </tr>\n",
       "    <tr>\n",
       "      <th>3</th>\n",
       "      <td>1.577381e-01</td>\n",
       "      <td>-9.658671e-18</td>\n",
       "      <td>-0.987481</td>\n",
       "      <td>0.000020</td>\n",
       "    </tr>\n",
       "    <tr>\n",
       "      <th>4</th>\n",
       "      <td>2.096329e-01</td>\n",
       "      <td>-1.283631e-17</td>\n",
       "      <td>-0.977780</td>\n",
       "      <td>0.000022</td>\n",
       "    </tr>\n",
       "  </tbody>\n",
       "</table>\n",
       "</div>"
      ],
      "text/plain": [
       "              x             y         z    mean_D\n",
       "0  1.224647e-16 -7.498799e-33 -1.000000  0.000017\n",
       "1  5.277535e-02 -3.231558e-18 -0.998606  0.000018\n",
       "2  1.054036e-01 -6.454109e-18 -0.994430  0.000019\n",
       "3  1.577381e-01 -9.658671e-18 -0.987481  0.000020\n",
       "4  2.096329e-01 -1.283631e-17 -0.977780  0.000022"
      ]
     },
     "execution_count": 25,
     "metadata": {},
     "output_type": "execute_result"
    }
   ],
   "source": [
    "results = pd.DataFrame(columns = [\"x\", \"y\", \"z\", \"mean_D\"], data = data)\n",
    "results.head()"
   ]
  },
  {
   "cell_type": "code",
   "execution_count": 26,
   "id": "9cfceba8-ca66-487a-8948-a89bc1fbdfae",
   "metadata": {},
   "outputs": [],
   "source": [
    "results.to_excel(\"test/cage1-500K-aniso.xlsx\")"
   ]
  },
  {
   "cell_type": "code",
   "execution_count": 29,
   "id": "8e7aaa1b-43e9-41d7-a3a6-2bdde71dd013",
   "metadata": {},
   "outputs": [],
   "source": [
    "cell= [\n",
    "    [21.2944000000,        0.0000000000,        0.0000000000],\n",
    "    [-4.6030371123,       20.7909480472,        0.0000000000],\n",
    "    [-0.9719093466,       -1.2106211379,       15.1054299403]\n",
    "]\n",
    "\n",
    "diags = [[1,0,0],[0,1,0],[0,0,1]]\n",
    "diags = [ vector(diag, cell = cell, name = \"m\") for diag in diags]"
   ]
  },
  {
   "cell_type": "code",
   "execution_count": 30,
   "id": "a72f28ba-5174-4a22-955e-6a76f1b3bb8b",
   "metadata": {},
   "outputs": [
    {
     "data": {
      "text/plain": [
       "[<fishmol.utils.vector at 0x7f91a634bcd0>,\n",
       " <fishmol.utils.vector at 0x7f91a634bd30>,\n",
       " <fishmol.utils.vector at 0x7f91a634bfa0>]"
      ]
     },
     "execution_count": 30,
     "metadata": {},
     "output_type": "execute_result"
    }
   ],
   "source": [
    "[diag.to_cart() for diag in diags]"
   ]
  },
  {
   "cell_type": "code",
   "execution_count": 31,
   "id": "66060d40-300a-4f65-bf90-af518084371a",
   "metadata": {},
   "outputs": [],
   "source": [
    "zdirs = (None,)*3\n",
    "locs = [diag.array/40000 for diag in diags]\n",
    "labels = (\"$a$\", \"$b$\", \"$c$\")"
   ]
  },
  {
   "cell_type": "code",
   "execution_count": 32,
   "id": "30fa44bf-614a-4c43-9645-68bc56da184a",
   "metadata": {},
   "outputs": [
    {
     "ename": "AttributeError",
     "evalue": "module 'matplotlib' has no attribute 'figure'",
     "output_type": "error",
     "traceback": [
      "\u001b[0;31m---------------------------------------------------------------------------\u001b[0m",
      "\u001b[0;31mAttributeError\u001b[0m                            Traceback (most recent call last)",
      "\u001b[0;32m/tmp/ipykernel_2127156/499012341.py\u001b[0m in \u001b[0;36m<module>\u001b[0;34m\u001b[0m\n\u001b[0;32m----> 1\u001b[0;31m \u001b[0mfig\u001b[0m \u001b[0;34m=\u001b[0m \u001b[0mplt\u001b[0m\u001b[0;34m.\u001b[0m\u001b[0mfigure\u001b[0m\u001b[0;34m(\u001b[0m\u001b[0mfigsize\u001b[0m \u001b[0;34m=\u001b[0m \u001b[0;34m(\u001b[0m\u001b[0;36m5\u001b[0m\u001b[0;34m,\u001b[0m \u001b[0;36m4.6\u001b[0m\u001b[0;34m)\u001b[0m\u001b[0;34m)\u001b[0m\u001b[0;34m\u001b[0m\u001b[0;34m\u001b[0m\u001b[0m\n\u001b[0m\u001b[1;32m      2\u001b[0m \u001b[0max\u001b[0m \u001b[0;34m=\u001b[0m \u001b[0mfig\u001b[0m\u001b[0;34m.\u001b[0m\u001b[0madd_axes\u001b[0m\u001b[0;34m(\u001b[0m\u001b[0;34m[\u001b[0m\u001b[0;36m0.0\u001b[0m\u001b[0;34m,\u001b[0m\u001b[0;36m0.04\u001b[0m\u001b[0;34m,\u001b[0m\u001b[0;36m0.90\u001b[0m\u001b[0;34m,\u001b[0m\u001b[0;36m0.96\u001b[0m\u001b[0;34m]\u001b[0m\u001b[0;34m,\u001b[0m \u001b[0mprojection\u001b[0m\u001b[0;34m=\u001b[0m\u001b[0;34m'3d'\u001b[0m\u001b[0;34m)\u001b[0m\u001b[0;34m\u001b[0m\u001b[0;34m\u001b[0m\u001b[0m\n\u001b[1;32m      3\u001b[0m \u001b[0;34m\u001b[0m\u001b[0m\n\u001b[1;32m      4\u001b[0m \u001b[0;31m# ax.plot_trisurf(x, y, z, edgecolor ='none', cmap='PuBu', alpha=0.8)\u001b[0m\u001b[0;34m\u001b[0m\u001b[0;34m\u001b[0m\u001b[0m\n\u001b[1;32m      5\u001b[0m \u001b[0max\u001b[0m\u001b[0;34m.\u001b[0m\u001b[0mscatter3D\u001b[0m\u001b[0;34m(\u001b[0m\u001b[0mresults\u001b[0m\u001b[0;34m[\u001b[0m\u001b[0;34m\"x\"\u001b[0m\u001b[0;34m]\u001b[0m\u001b[0;34m,\u001b[0m \u001b[0mresults\u001b[0m\u001b[0;34m[\u001b[0m\u001b[0;34m\"y\"\u001b[0m\u001b[0;34m]\u001b[0m\u001b[0;34m,\u001b[0m \u001b[0mresults\u001b[0m\u001b[0;34m[\u001b[0m\u001b[0;34m\"z\"\u001b[0m\u001b[0;34m]\u001b[0m\u001b[0;34m,\u001b[0m \u001b[0medgecolor\u001b[0m \u001b[0;34m=\u001b[0m\u001b[0;34m'none'\u001b[0m\u001b[0;34m,\u001b[0m \u001b[0mmarker\u001b[0m \u001b[0;34m=\u001b[0m \u001b[0;34m\".\"\u001b[0m\u001b[0;34m,\u001b[0m \u001b[0mcolor\u001b[0m \u001b[0;34m=\u001b[0m \u001b[0;34m\"#08519c\"\u001b[0m\u001b[0;34m,\u001b[0m \u001b[0malpha\u001b[0m\u001b[0;34m=\u001b[0m\u001b[0;36m0.3\u001b[0m\u001b[0;34m)\u001b[0m\u001b[0;34m\u001b[0m\u001b[0;34m\u001b[0m\u001b[0m\n",
      "\u001b[0;32m/apps/developers/compilers/python/3.9.9/1/default/lib/python3.9/site-packages/matplotlib/_api/__init__.py\u001b[0m in \u001b[0;36m__getattr__\u001b[0;34m(name)\u001b[0m\n\u001b[1;32m    220\u001b[0m         \u001b[0;32mif\u001b[0m \u001b[0mname\u001b[0m \u001b[0;32min\u001b[0m \u001b[0mprops\u001b[0m\u001b[0;34m:\u001b[0m\u001b[0;34m\u001b[0m\u001b[0;34m\u001b[0m\u001b[0m\n\u001b[1;32m    221\u001b[0m             \u001b[0;32mreturn\u001b[0m \u001b[0mprops\u001b[0m\u001b[0;34m[\u001b[0m\u001b[0mname\u001b[0m\u001b[0;34m]\u001b[0m\u001b[0;34m.\u001b[0m\u001b[0m__get__\u001b[0m\u001b[0;34m(\u001b[0m\u001b[0minstance\u001b[0m\u001b[0;34m)\u001b[0m\u001b[0;34m\u001b[0m\u001b[0;34m\u001b[0m\u001b[0m\n\u001b[0;32m--> 222\u001b[0;31m         raise AttributeError(\n\u001b[0m\u001b[1;32m    223\u001b[0m             f\"module {cls.__module__!r} has no attribute {name!r}\")\n\u001b[1;32m    224\u001b[0m \u001b[0;34m\u001b[0m\u001b[0m\n",
      "\u001b[0;31mAttributeError\u001b[0m: module 'matplotlib' has no attribute 'figure'"
     ]
    }
   ],
   "source": [
    "fig = plt.figure(figsize = (5, 4.6))\n",
    "ax = fig.add_axes([0.0,0.04,0.90,0.96], projection='3d')\n",
    "\n",
    "# ax.plot_trisurf(x, y, z, edgecolor ='none', cmap='PuBu', alpha=0.8)\n",
    "ax.scatter3D(results[\"x\"], results[\"y\"], results[\"z\"], edgecolor ='none', marker = \".\", color = \"#08519c\", alpha=0.3)\n",
    "\n",
    "for i, axis in enumerate(diags):\n",
    "    axis = axis.array/40000\n",
    "    a = Arrow3D([0, axis[0]], [0, axis[1]], [0, axis[2]], mutation_scale=15, \n",
    "            lw=1, arrowstyle=\"-|>\", color=\"#252525\")\n",
    "    ax.add_artist(a)\n",
    "    ax.text(*locs[i], labels[i], zdirs[i])\n",
    "\n",
    "idx = np.where(ave_d == np.amax(ave_d))\n",
    "h_path = vecs[idx]*ave_d[idx]\n",
    "\n",
    "a = Arrow3D(*zip(np.zeros(3), h_path[0]), mutation_scale=15, \n",
    "        lw=1, arrowstyle=\"-|>\", color=\"#b2182b\")\n",
    "ax.add_artist(a)\n",
    "ax.text(*h_path[0], \"D$_{max}$\", None)\n",
    "\n",
    "ax.set_xlabel(\"$D_x$\")\n",
    "ax.set_ylabel(\"$D_y$\")\n",
    "ax.set_zlabel(\"$D_z$\")\n",
    "\n",
    "ax.ticklabel_format(axis='both', style='sci', scilimits=[-4,4], useMathText=True)\n",
    "\n",
    "# plt.savefig(\"test/cage1-aniso-500K.jpg\", dpi = 600)\n",
    "\n",
    "plt.show()"
   ]
  }
 ],
 "metadata": {
  "kernelspec": {
   "display_name": "Python 3 (ipykernel)",
   "language": "python",
   "name": "python3"
  },
  "language_info": {
   "codemirror_mode": {
    "name": "ipython",
    "version": 3
   },
   "file_extension": ".py",
   "mimetype": "text/x-python",
   "name": "python",
   "nbconvert_exporter": "python",
   "pygments_lexer": "ipython3",
   "version": "3.9.9"
  }
 },
 "nbformat": 4,
 "nbformat_minor": 5
}
