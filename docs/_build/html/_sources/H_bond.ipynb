{
 "cells": [
  {
   "cell_type": "markdown",
   "id": "366da69c-86ec-4198-b4b1-6f770f30b0eb",
   "metadata": {},
   "source": [
    "# H bond recognition and lifetime analysis"
   ]
  },
  {
   "cell_type": "markdown",
   "id": "003634da-868a-4093-a906-1843e385a0c4",
   "metadata": {},
   "source": [
    "## $R(\\text{D} \\cdot \\cdot \\cdot \\text{A}) - \\angle \\text{D} - \\text{H} \\cdot \\cdot \\cdot \\text{A}$ heatmap"
   ]
  },
  {
   "cell_type": "markdown",
   "id": "51288b93-6daa-474c-aa33-96d7f532a8ab",
   "metadata": {},
   "source": [
    "### All H bonds"
   ]
  },
  {
   "cell_type": "markdown",
   "id": "056e4ac0-3ab3-43fe-a3d6-9e3f4c50a93a",
   "metadata": {},
   "source": [
    "### H bonds with the participance of water molecules"
   ]
  }
 ],
 "metadata": {
  "kernelspec": {
   "display_name": "Python 3 (ipykernel)",
   "language": "python",
   "name": "python3"
  },
  "language_info": {
   "codemirror_mode": {
    "name": "ipython",
    "version": 3
   },
   "file_extension": ".py",
   "mimetype": "text/x-python",
   "name": "python",
   "nbconvert_exporter": "python",
   "pygments_lexer": "ipython3",
   "version": "3.9.9"
  }
 },
 "nbformat": 4,
 "nbformat_minor": 5
}
