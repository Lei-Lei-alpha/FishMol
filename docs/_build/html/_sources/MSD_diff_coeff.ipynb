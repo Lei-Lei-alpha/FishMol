{
 "cells": [
  {
   "cell_type": "markdown",
   "id": "844a9700-9e29-4b32-88df-76df01c1c93e",
   "metadata": {},
   "source": [
    "# MSD and diffusion coefficient"
   ]
  },
  {
   "cell_type": "markdown",
   "id": "740ff814-60b0-4448-abcc-c2830cf8c14f",
   "metadata": {},
   "source": [
    "## Import packages"
   ]
  },
  {
   "cell_type": "code",
   "execution_count": 1,
   "id": "fe48ae5c-1678-4d68-a1f1-c794380dccde",
   "metadata": {},
   "outputs": [],
   "source": [
    "from fishmol import trj, msd\n",
    "from cage_data import cage1_info\n",
    "import numpy as np\n",
    "import pandas as pd\n",
    "import matplotlib.pyplot as plt\n",
    "from fishmol import style"
   ]
  },
  {
   "cell_type": "markdown",
   "id": "54bd7461-c58f-4c2a-8037-75a0075644c9",
   "metadata": {},
   "source": [
    "## Import information of the simulated system"
   ]
  },
  {
   "cell_type": "code",
   "execution_count": 2,
   "id": "8278b151-8f23-492a-b606-76794fbc5a21",
   "metadata": {},
   "outputs": [
    {
     "name": "stdout",
     "output_type": "stream",
     "text": [
      "[[14, 15, 16], [17, 18, 19], [143, 144, 145], [146, 147, 148], [272, 273, 274], [275, 276, 277], [401, 402, 403], [404, 405, 406]]\n"
     ]
    }
   ],
   "source": [
    "from cage_data import cage1_info\n",
    "# The simulation box\n",
    "cell = cage1_info.cell\n",
    "# Waters is a dict contains the indices of atoms of water molcules\n",
    "waters = cage1_info.waters\n",
    "water_indices = [[*water.values()] for water in waters]\n",
    "print(water_indices)"
   ]
  },
  {
   "cell_type": "markdown",
   "id": "df0234a9-60aa-4a86-b2e8-4254fdfc7f61",
   "metadata": {},
   "source": [
    "## Read trajectory data file"
   ]
  },
  {
   "cell_type": "code",
   "execution_count": 4,
   "id": "7e7fdc79-9156-4e5b-b574-8ee43ed3f92e",
   "metadata": {},
   "outputs": [
    {
     "name": "stdout",
     "output_type": "stream",
     "text": [
      "CPU times: user 45.4 s, sys: 1.47 s, total: 46.9 s\n",
      "Wall time: 47.1 s\n"
     ]
    }
   ],
   "source": [
    "%%time\n",
    "# The trajectory is a large file (517 MB)\n",
    "traj = trj.Trajectory(timestep = 5, data = \"/nobackup/rhtp48/data_ana/fishmol_examples/cage_data/cage1-500K.xyz\", index = \":\", cell = cell)"
   ]
  },
  {
   "cell_type": "markdown",
   "id": "5c56c993-3983-4c1b-84b2-01e7da3f5e8a",
   "metadata": {},
   "source": [
    "You can retrieve and confirm the simulation cell info"
   ]
  },
  {
   "cell_type": "code",
   "execution_count": 5,
   "id": "b664768c-3902-4e23-a599-35a8984c0c42",
   "metadata": {},
   "outputs": [
    {
     "data": {
      "text/plain": [
       "[[21.2944, 0.0, 0.0],\n",
       " [-4.6030371123, 20.7909480472, 0.0],\n",
       " [-0.9719093466, -1.2106211379, 15.1054299403]]"
      ]
     },
     "execution_count": 5,
     "metadata": {},
     "output_type": "execute_result"
    }
   ],
   "source": [
    "traj.cell"
   ]
  },
  {
   "cell_type": "markdown",
   "id": "204d9a40-ee4e-4085-bc94-0f5c6c9b5ab0",
   "metadata": {},
   "source": [
    "A test of `calc_com()` function is working"
   ]
  },
  {
   "cell_type": "code",
   "execution_count": 6,
   "id": "1ac2054f-b824-408c-8333-3638a23972e3",
   "metadata": {},
   "outputs": [
    {
     "data": {
      "text/plain": [
       "array([10.58631557, 19.90213351, 10.38000923])"
      ]
     },
     "execution_count": 6,
     "metadata": {},
     "output_type": "execute_result"
    }
   ],
   "source": [
    "traj.frames[0][water_indices[0]].calc_com()"
   ]
  },
  {
   "cell_type": "markdown",
   "id": "08010ed9-20f8-483f-9d74-5fe51f4b9d56",
   "metadata": {},
   "source": [
    "## Calculate the centre of masses (CoMs) for water molecules"
   ]
  },
  {
   "cell_type": "code",
   "execution_count": 7,
   "id": "ad299a46-4d81-4ce4-95c1-edb5b6a9c009",
   "metadata": {},
   "outputs": [
    {
     "name": "stdout",
     "output_type": "stream",
     "text": [
      "Progress: [■■■■■■■■■■■■■■■■■■■■] 100.0%\n"
     ]
    }
   ],
   "source": [
    "from fishmol.utils import update_progress # import the progress bar function\n",
    "\n",
    "water_coms = np.zeros((traj.nframes, 3*len(water_indices)))\n",
    "\n",
    "for i, frame in enumerate(traj.frames):\n",
    "    # Calculate com\n",
    "    coms = [frame[water_idx].calc_com() for water_idx in water_indices]\n",
    "    water_coms[i] = np.asarray(coms).flatten()\n",
    "    update_progress(i/traj.nframes)\n",
    "    \n",
    "# Add data to dateframe\n",
    "columns=[]\n",
    "for i in range(1, len(water_indices) + 1):\n",
    "    columns += [f\"water{i}_x\", f\"water{i}_y\", f\"water{i}_z\"]\n",
    "\n",
    "water_com_df = pd.DataFrame(columns=columns, data = water_coms)\n",
    "\n",
    "# Write data to excel file\n",
    "water_com_df.to_excel(\"test/cage1-500K-water-com.xlsx\")\n",
    "update_progress(1)"
   ]
  },
  {
   "cell_type": "code",
   "execution_count": 8,
   "id": "3855ed58-dadc-4a2a-a8c0-15b0202ef645",
   "metadata": {},
   "outputs": [
    {
     "data": {
      "text/html": [
       "<div>\n",
       "<style scoped>\n",
       "    .dataframe tbody tr th:only-of-type {\n",
       "        vertical-align: middle;\n",
       "    }\n",
       "\n",
       "    .dataframe tbody tr th {\n",
       "        vertical-align: top;\n",
       "    }\n",
       "\n",
       "    .dataframe thead th {\n",
       "        text-align: right;\n",
       "    }\n",
       "</style>\n",
       "<table border=\"1\" class=\"dataframe\">\n",
       "  <thead>\n",
       "    <tr style=\"text-align: right;\">\n",
       "      <th></th>\n",
       "      <th>water1_x</th>\n",
       "      <th>water1_y</th>\n",
       "      <th>water1_z</th>\n",
       "      <th>water2_x</th>\n",
       "      <th>water2_y</th>\n",
       "      <th>water2_z</th>\n",
       "      <th>water3_x</th>\n",
       "      <th>water3_y</th>\n",
       "      <th>water3_z</th>\n",
       "      <th>water4_x</th>\n",
       "      <th>...</th>\n",
       "      <th>water5_z</th>\n",
       "      <th>water6_x</th>\n",
       "      <th>water6_y</th>\n",
       "      <th>water6_z</th>\n",
       "      <th>water7_x</th>\n",
       "      <th>water7_y</th>\n",
       "      <th>water7_z</th>\n",
       "      <th>water8_x</th>\n",
       "      <th>water8_y</th>\n",
       "      <th>water8_z</th>\n",
       "    </tr>\n",
       "  </thead>\n",
       "  <tbody>\n",
       "    <tr>\n",
       "      <th>0</th>\n",
       "      <td>10.586316</td>\n",
       "      <td>19.902134</td>\n",
       "      <td>10.380009</td>\n",
       "      <td>0.624155</td>\n",
       "      <td>10.923925</td>\n",
       "      <td>8.298079</td>\n",
       "      <td>-1.967392</td>\n",
       "      <td>4.261146</td>\n",
       "      <td>12.241481</td>\n",
       "      <td>4.693672</td>\n",
       "      <td>...</td>\n",
       "      <td>4.725172</td>\n",
       "      <td>15.090375</td>\n",
       "      <td>8.649502</td>\n",
       "      <td>6.883228</td>\n",
       "      <td>17.759366</td>\n",
       "      <td>15.321196</td>\n",
       "      <td>2.865725</td>\n",
       "      <td>11.019290</td>\n",
       "      <td>3.578953</td>\n",
       "      <td>0.703805</td>\n",
       "    </tr>\n",
       "    <tr>\n",
       "      <th>1</th>\n",
       "      <td>10.597616</td>\n",
       "      <td>19.945151</td>\n",
       "      <td>10.393126</td>\n",
       "      <td>0.617881</td>\n",
       "      <td>10.942585</td>\n",
       "      <td>8.312331</td>\n",
       "      <td>-1.961926</td>\n",
       "      <td>4.253910</td>\n",
       "      <td>12.205821</td>\n",
       "      <td>4.689873</td>\n",
       "      <td>...</td>\n",
       "      <td>4.745156</td>\n",
       "      <td>15.076014</td>\n",
       "      <td>8.640429</td>\n",
       "      <td>6.849210</td>\n",
       "      <td>17.749958</td>\n",
       "      <td>15.278667</td>\n",
       "      <td>2.889409</td>\n",
       "      <td>11.049146</td>\n",
       "      <td>3.587807</td>\n",
       "      <td>0.663123</td>\n",
       "    </tr>\n",
       "    <tr>\n",
       "      <th>2</th>\n",
       "      <td>10.610208</td>\n",
       "      <td>20.003821</td>\n",
       "      <td>10.408405</td>\n",
       "      <td>0.610859</td>\n",
       "      <td>10.967922</td>\n",
       "      <td>8.330438</td>\n",
       "      <td>-1.953047</td>\n",
       "      <td>4.243309</td>\n",
       "      <td>12.156421</td>\n",
       "      <td>4.687198</td>\n",
       "      <td>...</td>\n",
       "      <td>4.767198</td>\n",
       "      <td>15.058083</td>\n",
       "      <td>8.628816</td>\n",
       "      <td>6.804086</td>\n",
       "      <td>17.738720</td>\n",
       "      <td>15.225162</td>\n",
       "      <td>2.920655</td>\n",
       "      <td>11.086905</td>\n",
       "      <td>3.600664</td>\n",
       "      <td>0.608757</td>\n",
       "    </tr>\n",
       "    <tr>\n",
       "      <th>3</th>\n",
       "      <td>10.622718</td>\n",
       "      <td>20.062112</td>\n",
       "      <td>10.416761</td>\n",
       "      <td>0.604688</td>\n",
       "      <td>10.993416</td>\n",
       "      <td>8.349495</td>\n",
       "      <td>-1.945208</td>\n",
       "      <td>4.229969</td>\n",
       "      <td>12.106099</td>\n",
       "      <td>4.687512</td>\n",
       "      <td>...</td>\n",
       "      <td>4.786539</td>\n",
       "      <td>15.040753</td>\n",
       "      <td>8.617851</td>\n",
       "      <td>6.760128</td>\n",
       "      <td>17.728982</td>\n",
       "      <td>15.181476</td>\n",
       "      <td>2.948253</td>\n",
       "      <td>11.122864</td>\n",
       "      <td>3.614650</td>\n",
       "      <td>0.558271</td>\n",
       "    </tr>\n",
       "    <tr>\n",
       "      <th>4</th>\n",
       "      <td>10.636664</td>\n",
       "      <td>20.122749</td>\n",
       "      <td>10.416813</td>\n",
       "      <td>0.597829</td>\n",
       "      <td>11.020753</td>\n",
       "      <td>8.373153</td>\n",
       "      <td>-1.941190</td>\n",
       "      <td>4.211549</td>\n",
       "      <td>12.054352</td>\n",
       "      <td>4.691621</td>\n",
       "      <td>...</td>\n",
       "      <td>4.808036</td>\n",
       "      <td>15.020218</td>\n",
       "      <td>8.605213</td>\n",
       "      <td>6.714651</td>\n",
       "      <td>17.717884</td>\n",
       "      <td>15.151479</td>\n",
       "      <td>2.970079</td>\n",
       "      <td>11.155729</td>\n",
       "      <td>3.629731</td>\n",
       "      <td>0.511643</td>\n",
       "    </tr>\n",
       "  </tbody>\n",
       "</table>\n",
       "<p>5 rows × 24 columns</p>\n",
       "</div>"
      ],
      "text/plain": [
       "    water1_x   water1_y   water1_z  water2_x   water2_y  water2_z  water3_x  \\\n",
       "0  10.586316  19.902134  10.380009  0.624155  10.923925  8.298079 -1.967392   \n",
       "1  10.597616  19.945151  10.393126  0.617881  10.942585  8.312331 -1.961926   \n",
       "2  10.610208  20.003821  10.408405  0.610859  10.967922  8.330438 -1.953047   \n",
       "3  10.622718  20.062112  10.416761  0.604688  10.993416  8.349495 -1.945208   \n",
       "4  10.636664  20.122749  10.416813  0.597829  11.020753  8.373153 -1.941190   \n",
       "\n",
       "   water3_y   water3_z  water4_x  ...  water5_z   water6_x  water6_y  \\\n",
       "0  4.261146  12.241481  4.693672  ...  4.725172  15.090375  8.649502   \n",
       "1  4.253910  12.205821  4.689873  ...  4.745156  15.076014  8.640429   \n",
       "2  4.243309  12.156421  4.687198  ...  4.767198  15.058083  8.628816   \n",
       "3  4.229969  12.106099  4.687512  ...  4.786539  15.040753  8.617851   \n",
       "4  4.211549  12.054352  4.691621  ...  4.808036  15.020218  8.605213   \n",
       "\n",
       "   water6_z   water7_x   water7_y  water7_z   water8_x  water8_y  water8_z  \n",
       "0  6.883228  17.759366  15.321196  2.865725  11.019290  3.578953  0.703805  \n",
       "1  6.849210  17.749958  15.278667  2.889409  11.049146  3.587807  0.663123  \n",
       "2  6.804086  17.738720  15.225162  2.920655  11.086905  3.600664  0.608757  \n",
       "3  6.760128  17.728982  15.181476  2.948253  11.122864  3.614650  0.558271  \n",
       "4  6.714651  17.717884  15.151479  2.970079  11.155729  3.629731  0.511643  \n",
       "\n",
       "[5 rows x 24 columns]"
      ]
     },
     "execution_count": 8,
     "metadata": {},
     "output_type": "execute_result"
    }
   ],
   "source": [
    "water_com_df.head()"
   ]
  },
  {
   "cell_type": "code",
   "execution_count": 9,
   "id": "8ab578e2-1bf3-4649-b2f9-0e591d677eea",
   "metadata": {},
   "outputs": [],
   "source": [
    "del water_coms"
   ]
  },
  {
   "cell_type": "markdown",
   "id": "979d1dc9-cd59-4657-9e62-37ed260ba8c4",
   "metadata": {},
   "source": [
    "### Calculate the mean squared displacement of water molecules"
   ]
  },
  {
   "cell_type": "markdown",
   "id": "2afd22d4-d5f1-422f-a894-346ec759c44f",
   "metadata": {},
   "source": [
    "### Create the time data"
   ]
  },
  {
   "cell_type": "code",
   "execution_count": 11,
   "id": "fa4e9a10-7658-4172-abcc-888ffffc48bf",
   "metadata": {},
   "outputs": [],
   "source": [
    "start_idx = 0\n",
    "t0 = start_idx * 5\n",
    "t_end = t0 + 5*(len(water_com_df)-1) # 5 fs is the interval of traj\n",
    "t = np.linspace(t0, t_end, num = len(water_com_df))"
   ]
  },
  {
   "cell_type": "code",
   "execution_count": 12,
   "id": "98a8092f-42d6-4c07-a824-b8407b8228b7",
   "metadata": {},
   "outputs": [],
   "source": [
    "msd_d_df = pd.DataFrame()\n",
    "msd_d_df[\"t\"] = t[1:]"
   ]
  },
  {
   "cell_type": "markdown",
   "id": "b4182e6a-8422-428a-beff-ba104da46589",
   "metadata": {},
   "source": [
    "### Calculate the MSD and D"
   ]
  },
  {
   "cell_type": "code",
   "execution_count": 13,
   "id": "5ca93982-a351-4f12-8f83-6daa413aa500",
   "metadata": {},
   "outputs": [],
   "source": [
    "for i in range(len(water_indices)):\n",
    "    temp = np.array(water_com_df.iloc[:, 3*i:3*i+3])\n",
    "    msds = msd.msd_fft(temp)\n",
    "    msd_d_df[f\"water{i}_MSD\"] = msds[1:]\n",
    "    msd_d_df[f\"water{i}_D\"] = msds[1:] * 1E-16 / (6*t[1:]*1E-15)"
   ]
  },
  {
   "cell_type": "code",
   "execution_count": 14,
   "id": "1de19de4-f1ee-4490-a038-0c61e53fb373",
   "metadata": {},
   "outputs": [],
   "source": [
    "msd_df = msd_d_df.iloc[:, 1:16:2]\n",
    "d_df = msd_d_df.iloc[:, 2:17:2]"
   ]
  },
  {
   "cell_type": "markdown",
   "id": "4c51fcaa-3450-4e24-a9fb-25b03da8673e",
   "metadata": {},
   "source": [
    "### Calculate average values of MSD and D"
   ]
  },
  {
   "cell_type": "code",
   "execution_count": 15,
   "id": "36674a1e-cd8b-4596-b6ea-0abb994c009d",
   "metadata": {},
   "outputs": [],
   "source": [
    "msd_d_df[\"Mean_MSD\"] = msd_df.mean(axis=1)\n",
    "msd_d_df[\"MSD_error\"] = msd_df.std(axis=1) / 8**0.5\n",
    "msd_d_df[\"Mean_D\"] = d_df.mean(axis=1)\n",
    "msd_d_df[\"D_error\"] = d_df.std(axis=1) / 8**0.5"
   ]
  },
  {
   "cell_type": "code",
   "execution_count": 16,
   "id": "fd96deff-60d3-4f8d-8edc-bea68e66a4c3",
   "metadata": {},
   "outputs": [],
   "source": [
    "# Save the data\n",
    "msd_d_df.to_excel(\"test/cage1-H2O-MSD-D-500K.xlsx\")"
   ]
  },
  {
   "cell_type": "markdown",
   "id": "097f3768-02be-4746-9913-a9c073cc5043",
   "metadata": {},
   "source": [
    "## Plot the data"
   ]
  },
  {
   "cell_type": "code",
   "execution_count": 17,
   "id": "e5f76215-02ab-48d2-b2c3-36118f58e1ef",
   "metadata": {},
   "outputs": [
    {
     "data": {
      "text/html": [
       "<div>\n",
       "<style scoped>\n",
       "    .dataframe tbody tr th:only-of-type {\n",
       "        vertical-align: middle;\n",
       "    }\n",
       "\n",
       "    .dataframe tbody tr th {\n",
       "        vertical-align: top;\n",
       "    }\n",
       "\n",
       "    .dataframe thead th {\n",
       "        text-align: right;\n",
       "    }\n",
       "</style>\n",
       "<table border=\"1\" class=\"dataframe\">\n",
       "  <thead>\n",
       "    <tr style=\"text-align: right;\">\n",
       "      <th></th>\n",
       "      <th>t</th>\n",
       "      <th>water0_MSD</th>\n",
       "      <th>water0_D</th>\n",
       "      <th>water1_MSD</th>\n",
       "      <th>water1_D</th>\n",
       "      <th>water2_MSD</th>\n",
       "      <th>water2_D</th>\n",
       "      <th>water3_MSD</th>\n",
       "      <th>water3_D</th>\n",
       "      <th>water4_MSD</th>\n",
       "      <th>...</th>\n",
       "      <th>water5_MSD</th>\n",
       "      <th>water5_D</th>\n",
       "      <th>water6_MSD</th>\n",
       "      <th>water6_D</th>\n",
       "      <th>water7_MSD</th>\n",
       "      <th>water7_D</th>\n",
       "      <th>Mean_MSD</th>\n",
       "      <th>MSD_error</th>\n",
       "      <th>Mean_D</th>\n",
       "      <th>D_error</th>\n",
       "    </tr>\n",
       "  </thead>\n",
       "  <tbody>\n",
       "    <tr>\n",
       "      <th>1000</th>\n",
       "      <td>5.0</td>\n",
       "      <td>4.093919</td>\n",
       "      <td>0.000014</td>\n",
       "      <td>19.722342</td>\n",
       "      <td>0.000066</td>\n",
       "      <td>2.003004</td>\n",
       "      <td>0.000007</td>\n",
       "      <td>33.566337</td>\n",
       "      <td>0.000112</td>\n",
       "      <td>1.458750</td>\n",
       "      <td>...</td>\n",
       "      <td>19.347635</td>\n",
       "      <td>0.000064</td>\n",
       "      <td>2.614106</td>\n",
       "      <td>0.000009</td>\n",
       "      <td>19.172680</td>\n",
       "      <td>0.000064</td>\n",
       "      <td>12.747347</td>\n",
       "      <td>4.198995</td>\n",
       "      <td>0.000042</td>\n",
       "      <td>0.000014</td>\n",
       "    </tr>\n",
       "    <tr>\n",
       "      <th>1001</th>\n",
       "      <td>10.0</td>\n",
       "      <td>4.095739</td>\n",
       "      <td>0.000014</td>\n",
       "      <td>19.746275</td>\n",
       "      <td>0.000066</td>\n",
       "      <td>2.003836</td>\n",
       "      <td>0.000007</td>\n",
       "      <td>33.597794</td>\n",
       "      <td>0.000112</td>\n",
       "      <td>1.458538</td>\n",
       "      <td>...</td>\n",
       "      <td>19.358398</td>\n",
       "      <td>0.000064</td>\n",
       "      <td>2.613060</td>\n",
       "      <td>0.000009</td>\n",
       "      <td>19.178147</td>\n",
       "      <td>0.000064</td>\n",
       "      <td>12.756473</td>\n",
       "      <td>4.202892</td>\n",
       "      <td>0.000042</td>\n",
       "      <td>0.000014</td>\n",
       "    </tr>\n",
       "    <tr>\n",
       "      <th>1002</th>\n",
       "      <td>15.0</td>\n",
       "      <td>4.097586</td>\n",
       "      <td>0.000014</td>\n",
       "      <td>19.770177</td>\n",
       "      <td>0.000066</td>\n",
       "      <td>2.004774</td>\n",
       "      <td>0.000007</td>\n",
       "      <td>33.629258</td>\n",
       "      <td>0.000112</td>\n",
       "      <td>1.458261</td>\n",
       "      <td>...</td>\n",
       "      <td>19.369117</td>\n",
       "      <td>0.000064</td>\n",
       "      <td>2.612067</td>\n",
       "      <td>0.000009</td>\n",
       "      <td>19.183779</td>\n",
       "      <td>0.000064</td>\n",
       "      <td>12.765627</td>\n",
       "      <td>4.206788</td>\n",
       "      <td>0.000042</td>\n",
       "      <td>0.000014</td>\n",
       "    </tr>\n",
       "    <tr>\n",
       "      <th>1003</th>\n",
       "      <td>20.0</td>\n",
       "      <td>4.099463</td>\n",
       "      <td>0.000014</td>\n",
       "      <td>19.794038</td>\n",
       "      <td>0.000066</td>\n",
       "      <td>2.005816</td>\n",
       "      <td>0.000007</td>\n",
       "      <td>33.660730</td>\n",
       "      <td>0.000112</td>\n",
       "      <td>1.457916</td>\n",
       "      <td>...</td>\n",
       "      <td>19.379795</td>\n",
       "      <td>0.000064</td>\n",
       "      <td>2.611117</td>\n",
       "      <td>0.000009</td>\n",
       "      <td>19.189575</td>\n",
       "      <td>0.000064</td>\n",
       "      <td>12.774806</td>\n",
       "      <td>4.210683</td>\n",
       "      <td>0.000042</td>\n",
       "      <td>0.000014</td>\n",
       "    </tr>\n",
       "    <tr>\n",
       "      <th>1004</th>\n",
       "      <td>25.0</td>\n",
       "      <td>4.101374</td>\n",
       "      <td>0.000014</td>\n",
       "      <td>19.817852</td>\n",
       "      <td>0.000066</td>\n",
       "      <td>2.006957</td>\n",
       "      <td>0.000007</td>\n",
       "      <td>33.692212</td>\n",
       "      <td>0.000112</td>\n",
       "      <td>1.457499</td>\n",
       "      <td>...</td>\n",
       "      <td>19.390432</td>\n",
       "      <td>0.000064</td>\n",
       "      <td>2.610204</td>\n",
       "      <td>0.000009</td>\n",
       "      <td>19.195537</td>\n",
       "      <td>0.000064</td>\n",
       "      <td>12.784008</td>\n",
       "      <td>4.214578</td>\n",
       "      <td>0.000042</td>\n",
       "      <td>0.000014</td>\n",
       "    </tr>\n",
       "  </tbody>\n",
       "</table>\n",
       "<p>5 rows × 21 columns</p>\n",
       "</div>"
      ],
      "text/plain": [
       "         t  water0_MSD  water0_D  water1_MSD  water1_D  water2_MSD  water2_D  \\\n",
       "1000   5.0    4.093919  0.000014   19.722342  0.000066    2.003004  0.000007   \n",
       "1001  10.0    4.095739  0.000014   19.746275  0.000066    2.003836  0.000007   \n",
       "1002  15.0    4.097586  0.000014   19.770177  0.000066    2.004774  0.000007   \n",
       "1003  20.0    4.099463  0.000014   19.794038  0.000066    2.005816  0.000007   \n",
       "1004  25.0    4.101374  0.000014   19.817852  0.000066    2.006957  0.000007   \n",
       "\n",
       "      water3_MSD  water3_D  water4_MSD  ...  water5_MSD  water5_D  water6_MSD  \\\n",
       "1000   33.566337  0.000112    1.458750  ...   19.347635  0.000064    2.614106   \n",
       "1001   33.597794  0.000112    1.458538  ...   19.358398  0.000064    2.613060   \n",
       "1002   33.629258  0.000112    1.458261  ...   19.369117  0.000064    2.612067   \n",
       "1003   33.660730  0.000112    1.457916  ...   19.379795  0.000064    2.611117   \n",
       "1004   33.692212  0.000112    1.457499  ...   19.390432  0.000064    2.610204   \n",
       "\n",
       "      water6_D  water7_MSD  water7_D   Mean_MSD  MSD_error    Mean_D   D_error  \n",
       "1000  0.000009   19.172680  0.000064  12.747347   4.198995  0.000042  0.000014  \n",
       "1001  0.000009   19.178147  0.000064  12.756473   4.202892  0.000042  0.000014  \n",
       "1002  0.000009   19.183779  0.000064  12.765627   4.206788  0.000042  0.000014  \n",
       "1003  0.000009   19.189575  0.000064  12.774806   4.210683  0.000042  0.000014  \n",
       "1004  0.000009   19.195537  0.000064  12.784008   4.214578  0.000042  0.000014  \n",
       "\n",
       "[5 rows x 21 columns]"
      ]
     },
     "execution_count": 17,
     "metadata": {},
     "output_type": "execute_result"
    }
   ],
   "source": [
    "# skip the first 5 ps, that the system is still equilibrating\n",
    "msd_d_df = msd_d_df.iloc[1000:,:]\n",
    "msd_d_df[\"t\"] = (msd_d_df[\"t\"] -5000)\n",
    "msd_d_df.head()"
   ]
  },
  {
   "cell_type": "code",
   "execution_count": 23,
   "id": "a468aa01-a0ef-447e-9699-fb5b8ddf1e12",
   "metadata": {},
   "outputs": [
    {
     "data": {
      "image/png": "[encoded data removed]",
      "text/plain": [
       "<Figure size 331.2x259.2 with 2 Axes>"
      ]
     },
     "metadata": {
      "needs_background": "light"
     },
     "output_type": "display_data"
    }
   ],
   "source": [
    "fig = plt.figure(figsize=(4.6,3.6))\n",
    "ax  = fig.add_axes([0.16, 0.16, 0.685, 0.75])\n",
    "\n",
    "color = \"#08519c\"\n",
    "ax.plot(msd_d_df[\"t\"]/1000, msd_d_df[\"Mean_MSD\"], color = \"#525252\")\n",
    "\n",
    "ax.plot(msd_d_df[\"t\"]/1000, msd_d_df[\"Mean_MSD\"] - msd_d_df[\"MSD_error\"], linewidth = 1, color = \"#bdbdbd\")\n",
    "ax.plot(msd_d_df[\"t\"]/1000, msd_d_df[\"Mean_MSD\"] + msd_d_df[\"MSD_error\"], linewidth = 1, color = \"#bdbdbd\")\n",
    "\n",
    "ax.fill_between(msd_d_df[\"t\"]/1000, msd_d_df[\"Mean_MSD\"] + msd_d_df[\"MSD_error\"], msd_d_df[\"Mean_MSD\"] - msd_d_df[\"MSD_error\"], color= \"#d9d9d9\", alpha = 0.2)\n",
    "\n",
    "linear_model = np.polyfit(msd_d_df[\"t\"]/1000, msd_d_df[\"Mean_MSD\"],1)  \n",
    "linear_model_fn = np.poly1d(linear_model) \n",
    "\n",
    "x_s = np.arange(msd_d_df[\"t\"].min()/1000, msd_d_df[\"t\"].max()/1000)  \n",
    "ax.plot(x_s,linear_model_fn(x_s), color=\"k\", ls =\"-.\")\n",
    "\n",
    "ax1 = ax.twinx()\n",
    "ax1.plot(msd_d_df[\"t\"]/1000, msd_d_df[\"Mean_D\"], color = color)\n",
    "ax1.plot(msd_d_df[\"t\"]/1000, msd_d_df[\"Mean_D\"] - msd_d_df[\"D_error\"], linewidth = 1, color = \"#6baed6\")\n",
    "ax1.plot(msd_d_df[\"t\"]/1000, msd_d_df[\"Mean_D\"] + msd_d_df[\"D_error\"], linewidth = 1, color = \"#6baed6\")\n",
    "\n",
    "ax1.fill_between(msd_d_df[\"t\"]/1000, msd_d_df[\"Mean_D\"] + msd_d_df[\"D_error\"], msd_d_df[\"Mean_D\"] - msd_d_df[\"D_error\"], color = \"#9ecae1\", alpha = 0.2)\n",
    "\n",
    "ax.annotate(\"\", xy=(0.7, 0.68), xycoords = \"axes fraction\",\n",
    "            xytext=(0.85, 0.68), textcoords='axes fraction',\n",
    "            arrowprops=dict(arrowstyle=\"->\", color = \"#525252\"))\n",
    "\n",
    "ax.annotate(\"\", xy=(0.23, 0.40), xycoords = \"axes fraction\",\n",
    "            xytext=(0.08, 0.40), textcoords='axes fraction',\n",
    "            arrowprops=dict(arrowstyle=\"->\", color = color))\n",
    "\n",
    "xmin, xmax = ax.get_xlim()\n",
    "ymin, ymax = ax.get_ylim()\n",
    "\n",
    "ax.text(xmin + 0.35*(xmax-xmin), ymin + 0.92*(ymax - ymin), \"%.2e cm$^2$ s$^{-1}$\"%(linear_model[0]/60000), ha = \"center\", va = \"center\")\n",
    "\n",
    "ax.set_ylabel('MSD (Å$^2$)')\n",
    "ax.set_xlabel('$t$ (ps)')\n",
    "\n",
    "ax1.set_ylabel('$D$ (cm$^2$ s$^{-1}$)', color = color)\n",
    "ax1.tick_params(axis='y', color = color, labelcolor = color)\n",
    "ax1.spines['right'].set_color(color)\n",
    "ax1.ticklabel_format(axis='y', style='sci', scilimits=[-4,4], useMathText=True)\n",
    "\n",
    "plt.savefig(\"test/cage1-ave_msd-d-500K.jpg\", dpi =600)\n",
    "\n",
    "plt.show()"
   ]
  }
 ],
 "metadata": {
  "kernelspec": {
   "display_name": "Python 3 (ipykernel)",
   "language": "python",
   "name": "python3"
  },
  "language_info": {
   "codemirror_mode": {
    "name": "ipython",
    "version": 3
   },
   "file_extension": ".py",
   "mimetype": "text/x-python",
   "name": "python",
   "nbconvert_exporter": "python",
   "pygments_lexer": "ipython3",
   "version": "3.9.9"
  }
 },
 "nbformat": 4,
 "nbformat_minor": 5
}
