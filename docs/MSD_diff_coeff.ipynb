{
 "cells": [
  {
   "cell_type": "markdown",
   "id": "844a9700-9e29-4b32-88df-76df01c1c93e",
   "metadata": {},
   "source": [
    "# I/O of molecular dynamics trajectory"
   ]
  },
  {
   "cell_type": "code",
   "execution_count": 1,
   "id": "2b7939ef-6b60-47b8-bb39-2c5b255afab4",
   "metadata": {},
   "outputs": [
    {
     "name": "stdout",
     "output_type": "stream",
     "text": [
      "                                                                                       \n",
      "                  Welcome!                    ▄▄█▀                  FishMol\n",
      "                                          ▄▄███▀                 version 0.0.1\n",
      "      ○                                ▄▄█████▀                          ○\n",
      "           ○                        ▄▄████████▄                         /\n",
      "                                ▄▄▄████████████▄                    ○--○\n",
      "         ○                ▄▄▄████████████████████▄▄                     \\ \n",
      "                    ▄▄▄██████▀███████████████████████▄▄                  ○--○           ▄\n",
      "                ▄▄████████████ ██████████████████████████▄▄             /           ▄▄█▀\n",
      "         ○   ▄█████████████████ ████████████████████████████▄▄         ○         ▄███▀\n",
      "          ▄██████████▀▀▀████████ ██████████████████████████████▄▄             ▄█████▀\n",
      "         ▄████████▀   ○  ▀███████ █████████████████████████████████▄▄      ▄▄█████▀\n",
      "         ■▄███████▄      ▄███████ █████████████████████████████████████▄▄▄███████▀\n",
      "          ▀█████████▄▄▄█████████ ███████████████████████████████████████████████\n",
      "            ▀██████████████████ ████████████████████████████████████████████████▄\n",
      "              ▀██████████████▀▄███████████████████████████████████▀▀▀▀▀████████████▄\n",
      "                ▀▀█████████▀▄███████████████████████████████▀▀           ▀▀████████▀\n",
      "                   ▀▀█████▄████████████████████████▀▀▀▀██▀                 ▀▀████▀\n",
      "                        ▀▀▀█████████████████▀▀▀▀        ▀■                    ▀█▀\n",
      "                             ▀▀▀███████▀▀\n",
      "                                 ▀████\n",
      "                                    ▀▀▄                Contact: Lei.Lei@durham.ac.uk\n",
      "\n"
     ]
    }
   ],
   "source": [
    "!fishmol"
   ]
  },
  {
   "cell_type": "code",
   "execution_count": 3,
   "id": "fe48ae5c-1678-4d68-a1f1-c794380dccde",
   "metadata": {},
   "outputs": [],
   "source": [
    "from fishmol import trj, msd\n",
    "from cage_data import cage1_info\n",
    "import numpy as np\n",
    "import pandas as pd\n",
    "import matplotlib.pyplot as plt\n",
    "from fishmol import style"
   ]
  },
  {
   "cell_type": "code",
   "execution_count": 16,
   "id": "8278b151-8f23-492a-b606-76794fbc5a21",
   "metadata": {},
   "outputs": [
    {
     "name": "stdout",
     "output_type": "stream",
     "text": [
      "[[14, 15, 16], [17, 18, 19], [143, 144, 145], [146, 147, 148], [272, 273, 274], [275, 276, 277], [401, 402, 403], [404, 405, 406]]\n"
     ]
    }
   ],
   "source": [
    "from cage_data import cage1_info\n",
    "\n",
    "waters = cage1_info.waters\n",
    "water_indices = [[*water.values()] for water in waters]\n",
    "print(water_indices)"
   ]
  },
  {
   "cell_type": "code",
   "execution_count": 13,
   "id": "7e7fdc79-9156-4e5b-b574-8ee43ed3f92e",
   "metadata": {},
   "outputs": [
    {
     "name": "stdout",
     "output_type": "stream",
     "text": [
      "CPU times: user 45.8 s, sys: 2.61 s, total: 48.4 s\n",
      "Wall time: 48.5 s\n"
     ]
    }
   ],
   "source": [
    "%%time\n",
    "cell = cage1_info.cell\n",
    "traj = trj.Trajectory(timestep = 5, data = \"cage_data/cage1-500K.xyz\", index = \":\", cell = cell)"
   ]
  },
  {
   "cell_type": "code",
   "execution_count": 11,
   "id": "b664768c-3902-4e23-a599-35a8984c0c42",
   "metadata": {},
   "outputs": [
    {
     "data": {
      "text/plain": [
       "[[21.2944, 0.0, 0.0],\n",
       " [-4.6030371123, 20.7909480472, 0.0],\n",
       " [-0.9719093466, -1.2106211379, 15.1054299403]]"
      ]
     },
     "execution_count": 11,
     "metadata": {},
     "output_type": "execute_result"
    }
   ],
   "source": [
    "traj.cell"
   ]
  },
  {
   "cell_type": "code",
   "execution_count": 18,
   "id": "1ac2054f-b824-408c-8333-3638a23972e3",
   "metadata": {},
   "outputs": [
    {
     "data": {
      "text/plain": [
       "array([10.58631557, 19.90213351, 10.38000923])"
      ]
     },
     "execution_count": 18,
     "metadata": {},
     "output_type": "execute_result"
    }
   ],
   "source": [
    "traj.frames[0][water_indices[0]].calc_com()"
   ]
  },
  {
   "cell_type": "code",
   "execution_count": 37,
   "id": "ad299a46-4d81-4ce4-95c1-edb5b6a9c009",
   "metadata": {},
   "outputs": [
    {
     "name": "stdout",
     "output_type": "stream",
     "text": [
      "Progress: [■■■■■■■■■■■■■■■■■■■■] 100.0%\n"
     ]
    }
   ],
   "source": [
    "from fishmol.utils import update_progress\n",
    "\n",
    "water_coms = np.zeros((traj.nframes, 3*len(water_indices)))\n",
    "\n",
    "for i, frame in enumerate(traj.frames):\n",
    "    # Calculate com\n",
    "    coms = [frame[water_idx].calc_com() for water_idx in water_indices]\n",
    "    water_coms[i] = np.asarray(coms).flatten()\n",
    "    update_progress(i/traj.nframes)\n",
    "    \n",
    "# Add data to dateframe\n",
    "columns=[]\n",
    "for i in range(1, len(water_indices) + 1):\n",
    "    columns += [f\"water{i}_x\", f\"water{i}_y\", f\"water{i}_z\"]\n",
    "\n",
    "water_com_df = pd.DataFrame(columns=columns, data = water_coms)\n",
    "\n",
    "# Write data to excel file\n",
    "water_com_df.to_excel(\"test/cage1-500K-water-com.xlsx\")\n",
    "update_progress(1)"
   ]
  },
  {
   "cell_type": "code",
   "execution_count": 36,
   "id": "3855ed58-dadc-4a2a-a8c0-15b0202ef645",
   "metadata": {},
   "outputs": [
    {
     "data": {
      "text/html": [
       "<div>\n",
       "<style scoped>\n",
       "    .dataframe tbody tr th:only-of-type {\n",
       "        vertical-align: middle;\n",
       "    }\n",
       "\n",
       "    .dataframe tbody tr th {\n",
       "        vertical-align: top;\n",
       "    }\n",
       "\n",
       "    .dataframe thead th {\n",
       "        text-align: right;\n",
       "    }\n",
       "</style>\n",
       "<table border=\"1\" class=\"dataframe\">\n",
       "  <thead>\n",
       "    <tr style=\"text-align: right;\">\n",
       "      <th></th>\n",
       "      <th>water1_x</th>\n",
       "      <th>water1_y</th>\n",
       "      <th>water1_z</th>\n",
       "      <th>water2_x</th>\n",
       "      <th>water2_y</th>\n",
       "      <th>water2_z</th>\n",
       "      <th>water3_x</th>\n",
       "      <th>water3_y</th>\n",
       "      <th>water3_z</th>\n",
       "      <th>water4_x</th>\n",
       "      <th>...</th>\n",
       "      <th>water5_z</th>\n",
       "      <th>water6_x</th>\n",
       "      <th>water6_y</th>\n",
       "      <th>water6_z</th>\n",
       "      <th>water7_x</th>\n",
       "      <th>water7_y</th>\n",
       "      <th>water7_z</th>\n",
       "      <th>water8_x</th>\n",
       "      <th>water8_y</th>\n",
       "      <th>water8_z</th>\n",
       "    </tr>\n",
       "  </thead>\n",
       "  <tbody>\n",
       "    <tr>\n",
       "      <th>0</th>\n",
       "      <td>10.586316</td>\n",
       "      <td>19.902134</td>\n",
       "      <td>10.380009</td>\n",
       "      <td>0.624155</td>\n",
       "      <td>10.923925</td>\n",
       "      <td>8.298079</td>\n",
       "      <td>-1.967392</td>\n",
       "      <td>4.261146</td>\n",
       "      <td>12.241481</td>\n",
       "      <td>4.693672</td>\n",
       "      <td>...</td>\n",
       "      <td>4.725172</td>\n",
       "      <td>15.090375</td>\n",
       "      <td>8.649502</td>\n",
       "      <td>6.883228</td>\n",
       "      <td>17.759366</td>\n",
       "      <td>15.321196</td>\n",
       "      <td>2.865725</td>\n",
       "      <td>11.019290</td>\n",
       "      <td>3.578953</td>\n",
       "      <td>0.703805</td>\n",
       "    </tr>\n",
       "    <tr>\n",
       "      <th>1</th>\n",
       "      <td>10.597616</td>\n",
       "      <td>19.945151</td>\n",
       "      <td>10.393126</td>\n",
       "      <td>0.617881</td>\n",
       "      <td>10.942585</td>\n",
       "      <td>8.312331</td>\n",
       "      <td>-1.961926</td>\n",
       "      <td>4.253910</td>\n",
       "      <td>12.205821</td>\n",
       "      <td>4.689873</td>\n",
       "      <td>...</td>\n",
       "      <td>4.745156</td>\n",
       "      <td>15.076014</td>\n",
       "      <td>8.640429</td>\n",
       "      <td>6.849210</td>\n",
       "      <td>17.749958</td>\n",
       "      <td>15.278667</td>\n",
       "      <td>2.889409</td>\n",
       "      <td>11.049146</td>\n",
       "      <td>3.587807</td>\n",
       "      <td>0.663123</td>\n",
       "    </tr>\n",
       "    <tr>\n",
       "      <th>2</th>\n",
       "      <td>10.610208</td>\n",
       "      <td>20.003821</td>\n",
       "      <td>10.408405</td>\n",
       "      <td>0.610859</td>\n",
       "      <td>10.967922</td>\n",
       "      <td>8.330438</td>\n",
       "      <td>-1.953047</td>\n",
       "      <td>4.243309</td>\n",
       "      <td>12.156421</td>\n",
       "      <td>4.687198</td>\n",
       "      <td>...</td>\n",
       "      <td>4.767198</td>\n",
       "      <td>15.058083</td>\n",
       "      <td>8.628816</td>\n",
       "      <td>6.804086</td>\n",
       "      <td>17.738720</td>\n",
       "      <td>15.225162</td>\n",
       "      <td>2.920655</td>\n",
       "      <td>11.086905</td>\n",
       "      <td>3.600664</td>\n",
       "      <td>0.608757</td>\n",
       "    </tr>\n",
       "    <tr>\n",
       "      <th>3</th>\n",
       "      <td>10.622718</td>\n",
       "      <td>20.062112</td>\n",
       "      <td>10.416761</td>\n",
       "      <td>0.604688</td>\n",
       "      <td>10.993416</td>\n",
       "      <td>8.349495</td>\n",
       "      <td>-1.945208</td>\n",
       "      <td>4.229969</td>\n",
       "      <td>12.106099</td>\n",
       "      <td>4.687512</td>\n",
       "      <td>...</td>\n",
       "      <td>4.786539</td>\n",
       "      <td>15.040753</td>\n",
       "      <td>8.617851</td>\n",
       "      <td>6.760128</td>\n",
       "      <td>17.728982</td>\n",
       "      <td>15.181476</td>\n",
       "      <td>2.948253</td>\n",
       "      <td>11.122864</td>\n",
       "      <td>3.614650</td>\n",
       "      <td>0.558271</td>\n",
       "    </tr>\n",
       "    <tr>\n",
       "      <th>4</th>\n",
       "      <td>10.636664</td>\n",
       "      <td>20.122749</td>\n",
       "      <td>10.416813</td>\n",
       "      <td>0.597829</td>\n",
       "      <td>11.020753</td>\n",
       "      <td>8.373153</td>\n",
       "      <td>-1.941190</td>\n",
       "      <td>4.211549</td>\n",
       "      <td>12.054352</td>\n",
       "      <td>4.691621</td>\n",
       "      <td>...</td>\n",
       "      <td>4.808036</td>\n",
       "      <td>15.020218</td>\n",
       "      <td>8.605213</td>\n",
       "      <td>6.714651</td>\n",
       "      <td>17.717884</td>\n",
       "      <td>15.151479</td>\n",
       "      <td>2.970079</td>\n",
       "      <td>11.155729</td>\n",
       "      <td>3.629731</td>\n",
       "      <td>0.511643</td>\n",
       "    </tr>\n",
       "  </tbody>\n",
       "</table>\n",
       "<p>5 rows × 24 columns</p>\n",
       "</div>"
      ],
      "text/plain": [
       "    water1_x   water1_y   water1_z  water2_x   water2_y  water2_z  water3_x  \\\n",
       "0  10.586316  19.902134  10.380009  0.624155  10.923925  8.298079 -1.967392   \n",
       "1  10.597616  19.945151  10.393126  0.617881  10.942585  8.312331 -1.961926   \n",
       "2  10.610208  20.003821  10.408405  0.610859  10.967922  8.330438 -1.953047   \n",
       "3  10.622718  20.062112  10.416761  0.604688  10.993416  8.349495 -1.945208   \n",
       "4  10.636664  20.122749  10.416813  0.597829  11.020753  8.373153 -1.941190   \n",
       "\n",
       "   water3_y   water3_z  water4_x  ...  water5_z   water6_x  water6_y  \\\n",
       "0  4.261146  12.241481  4.693672  ...  4.725172  15.090375  8.649502   \n",
       "1  4.253910  12.205821  4.689873  ...  4.745156  15.076014  8.640429   \n",
       "2  4.243309  12.156421  4.687198  ...  4.767198  15.058083  8.628816   \n",
       "3  4.229969  12.106099  4.687512  ...  4.786539  15.040753  8.617851   \n",
       "4  4.211549  12.054352  4.691621  ...  4.808036  15.020218  8.605213   \n",
       "\n",
       "   water6_z   water7_x   water7_y  water7_z   water8_x  water8_y  water8_z  \n",
       "0  6.883228  17.759366  15.321196  2.865725  11.019290  3.578953  0.703805  \n",
       "1  6.849210  17.749958  15.278667  2.889409  11.049146  3.587807  0.663123  \n",
       "2  6.804086  17.738720  15.225162  2.920655  11.086905  3.600664  0.608757  \n",
       "3  6.760128  17.728982  15.181476  2.948253  11.122864  3.614650  0.558271  \n",
       "4  6.714651  17.717884  15.151479  2.970079  11.155729  3.629731  0.511643  \n",
       "\n",
       "[5 rows x 24 columns]"
      ]
     },
     "execution_count": 36,
     "metadata": {},
     "output_type": "execute_result"
    }
   ],
   "source": [
    "water_com_df.head()"
   ]
  },
  {
   "cell_type": "code",
   "execution_count": null,
   "id": "f8ce276e-ef38-47e3-8efa-f77d2e5efa31",
   "metadata": {},
   "outputs": [],
   "source": []
  }
 ],
 "metadata": {
  "kernelspec": {
   "display_name": "Python 3 (ipykernel)",
   "language": "python",
   "name": "python3"
  },
  "language_info": {
   "codemirror_mode": {
    "name": "ipython",
    "version": 3
   },
   "file_extension": ".py",
   "mimetype": "text/x-python",
   "name": "python",
   "nbconvert_exporter": "python",
   "pygments_lexer": "ipython3",
   "version": "3.9.9"
  }
 },
 "nbformat": 4,
 "nbformat_minor": 5
}
